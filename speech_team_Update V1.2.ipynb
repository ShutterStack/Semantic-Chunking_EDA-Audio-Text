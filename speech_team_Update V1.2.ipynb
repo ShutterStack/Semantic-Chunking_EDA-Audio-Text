{
  "nbformat": 4,
  "nbformat_minor": 0,
  "metadata": {
    "colab": {
      "provenance": [],
      "gpuType": "T4",
      "include_colab_link": true
    },
    "kernelspec": {
      "name": "python3",
      "display_name": "Python 3"
    },
    "language_info": {
      "name": "python"
    },
    "accelerator": "GPU"
  },
  "cells": [
    {
      "cell_type": "markdown",
      "metadata": {
        "id": "view-in-github",
        "colab_type": "text"
      },
      "source": [
        "<a href=\"https://colab.research.google.com/github/ShutterStack/Semantic-Chunking_EDA-Audio-Text/blob/main/speech_team_Update%20V1.2.ipynb\" target=\"_parent\"><img src=\"https://colab.research.google.com/assets/colab-badge.svg\" alt=\"Open In Colab\"/></a>"
      ]
    },
    {
      "cell_type": "markdown",
      "source": [
        "\n",
        "\n",
        "---\n",
        "\n"
      ],
      "metadata": {
        "id": "97jDW6dhYI0_"
      }
    },
    {
      "cell_type": "markdown",
      "source": [
        "## Task 1: Semantic Chunking of a Youtube Video\n",
        "\n"
      ],
      "metadata": {
        "id": "mzqLZrA2UEmL"
      }
    },
    {
      "cell_type": "code",
      "execution_count": 1,
      "metadata": {
        "id": "W00nRD-WTTXR",
        "colab": {
          "base_uri": "https://localhost:8080/"
        },
        "outputId": "28290dee-beed-4586-d104-e5b242e866bf"
      },
      "outputs": [
        {
          "output_type": "stream",
          "name": "stdout",
          "text": [
            "Collecting pytube\n",
            "  Downloading pytube-15.0.0-py3-none-any.whl (57 kB)\n",
            "\u001b[2K     \u001b[90m━━━━━━━━━━━━━━━━━━━━━━━━━━━━━━━━━━━━━━━━\u001b[0m \u001b[32m57.6/57.6 kB\u001b[0m \u001b[31m798.8 kB/s\u001b[0m eta \u001b[36m0:00:00\u001b[0m\n",
            "\u001b[?25hRequirement already satisfied: moviepy in /usr/local/lib/python3.10/dist-packages (1.0.3)\n",
            "Requirement already satisfied: decorator<5.0,>=4.0.2 in /usr/local/lib/python3.10/dist-packages (from moviepy) (4.4.2)\n",
            "Requirement already satisfied: tqdm<5.0,>=4.11.2 in /usr/local/lib/python3.10/dist-packages (from moviepy) (4.66.4)\n",
            "Requirement already satisfied: requests<3.0,>=2.8.1 in /usr/local/lib/python3.10/dist-packages (from moviepy) (2.31.0)\n",
            "Requirement already satisfied: proglog<=1.0.0 in /usr/local/lib/python3.10/dist-packages (from moviepy) (0.1.10)\n",
            "Requirement already satisfied: numpy>=1.17.3 in /usr/local/lib/python3.10/dist-packages (from moviepy) (1.25.2)\n",
            "Requirement already satisfied: imageio<3.0,>=2.5 in /usr/local/lib/python3.10/dist-packages (from moviepy) (2.31.6)\n",
            "Requirement already satisfied: imageio-ffmpeg>=0.2.0 in /usr/local/lib/python3.10/dist-packages (from moviepy) (0.5.1)\n",
            "Requirement already satisfied: pillow<10.1.0,>=8.3.2 in /usr/local/lib/python3.10/dist-packages (from imageio<3.0,>=2.5->moviepy) (9.4.0)\n",
            "Requirement already satisfied: setuptools in /usr/local/lib/python3.10/dist-packages (from imageio-ffmpeg>=0.2.0->moviepy) (67.7.2)\n",
            "Requirement already satisfied: charset-normalizer<4,>=2 in /usr/local/lib/python3.10/dist-packages (from requests<3.0,>=2.8.1->moviepy) (3.3.2)\n",
            "Requirement already satisfied: idna<4,>=2.5 in /usr/local/lib/python3.10/dist-packages (from requests<3.0,>=2.8.1->moviepy) (3.7)\n",
            "Requirement already satisfied: urllib3<3,>=1.21.1 in /usr/local/lib/python3.10/dist-packages (from requests<3.0,>=2.8.1->moviepy) (2.0.7)\n",
            "Requirement already satisfied: certifi>=2017.4.17 in /usr/local/lib/python3.10/dist-packages (from requests<3.0,>=2.8.1->moviepy) (2024.6.2)\n",
            "Installing collected packages: pytube\n",
            "Successfully installed pytube-15.0.0\n",
            "MoviePy - Writing audio in audio.wav\n"
          ]
        },
        {
          "output_type": "stream",
          "name": "stderr",
          "text": [
            "                                                                        "
          ]
        },
        {
          "output_type": "stream",
          "name": "stdout",
          "text": [
            "MoviePy - Done.\n"
          ]
        },
        {
          "output_type": "stream",
          "name": "stderr",
          "text": [
            "\r"
          ]
        }
      ],
      "source": [
        "!pip install pytube moviepy\n",
        "\n",
        "from pytube import YouTube\n",
        "from moviepy.editor import VideoFileClip\n",
        "\n",
        "# Download the video from YouTube\n",
        "def download_video(url, output_path='video.mp4'):\n",
        "    yt = YouTube(url)\n",
        "    yt.streams.filter(progressive=True, file_extension='mp4').order_by('resolution').desc().first().download(filename=output_path)\n",
        "    return output_path\n",
        "\n",
        "# Extract audio from the downloaded video\n",
        "def extract_audio(video_path, output_path='audio.wav'):\n",
        "    video = VideoFileClip(video_path)\n",
        "    video.audio.write_audiofile(output_path)\n",
        "    return output_path\n",
        "\n",
        "video_url = 'https://www.youtube.com/watch?v=Sby1uJ_NFIY'\n",
        "video_path = download_video(video_url)\n",
        "audio_path = extract_audio(video_path)\n"
      ]
    },
    {
      "cell_type": "code",
      "source": [
        "!pip install openai-whisper\n",
        "\n",
        "import whisper\n",
        "\n",
        "# Load the Whisper model\n",
        "model = whisper.load_model(\"base\")\n",
        "\n",
        "# Transcribe the audio\n",
        "def transcribe_audio(audio_path):\n",
        "    result = model.transcribe(audio_path)\n",
        "    return result['segments']\n",
        "\n",
        "segments = transcribe_audio(audio_path)\n"
      ],
      "metadata": {
        "colab": {
          "base_uri": "https://localhost:8080/"
        },
        "id": "8IwAgiUr0Gxy",
        "outputId": "58bd1e49-50c4-453d-cd5f-b537b573243c"
      },
      "execution_count": 2,
      "outputs": [
        {
          "output_type": "stream",
          "name": "stdout",
          "text": [
            "Collecting openai-whisper\n",
            "  Downloading openai-whisper-20231117.tar.gz (798 kB)\n",
            "\u001b[2K     \u001b[90m━━━━━━━━━━━━━━━━━━━━━━━━━━━━━━━━━━━━━━━━\u001b[0m \u001b[32m798.6/798.6 kB\u001b[0m \u001b[31m18.8 MB/s\u001b[0m eta \u001b[36m0:00:00\u001b[0m\n",
            "\u001b[?25h  Installing build dependencies ... \u001b[?25l\u001b[?25hdone\n",
            "  Getting requirements to build wheel ... \u001b[?25l\u001b[?25hdone\n",
            "  Preparing metadata (pyproject.toml) ... \u001b[?25l\u001b[?25hdone\n",
            "Requirement already satisfied: triton<3,>=2.0.0 in /usr/local/lib/python3.10/dist-packages (from openai-whisper) (2.3.0)\n",
            "Requirement already satisfied: numba in /usr/local/lib/python3.10/dist-packages (from openai-whisper) (0.58.1)\n",
            "Requirement already satisfied: numpy in /usr/local/lib/python3.10/dist-packages (from openai-whisper) (1.25.2)\n",
            "Requirement already satisfied: torch in /usr/local/lib/python3.10/dist-packages (from openai-whisper) (2.3.0+cu121)\n",
            "Requirement already satisfied: tqdm in /usr/local/lib/python3.10/dist-packages (from openai-whisper) (4.66.4)\n",
            "Requirement already satisfied: more-itertools in /usr/local/lib/python3.10/dist-packages (from openai-whisper) (10.1.0)\n",
            "Collecting tiktoken (from openai-whisper)\n",
            "  Downloading tiktoken-0.7.0-cp310-cp310-manylinux_2_17_x86_64.manylinux2014_x86_64.whl (1.1 MB)\n",
            "\u001b[2K     \u001b[90m━━━━━━━━━━━━━━━━━━━━━━━━━━━━━━━━━━━━━━━━\u001b[0m \u001b[32m1.1/1.1 MB\u001b[0m \u001b[31m53.2 MB/s\u001b[0m eta \u001b[36m0:00:00\u001b[0m\n",
            "\u001b[?25hRequirement already satisfied: filelock in /usr/local/lib/python3.10/dist-packages (from triton<3,>=2.0.0->openai-whisper) (3.14.0)\n",
            "Requirement already satisfied: llvmlite<0.42,>=0.41.0dev0 in /usr/local/lib/python3.10/dist-packages (from numba->openai-whisper) (0.41.1)\n",
            "Requirement already satisfied: regex>=2022.1.18 in /usr/local/lib/python3.10/dist-packages (from tiktoken->openai-whisper) (2024.5.15)\n",
            "Requirement already satisfied: requests>=2.26.0 in /usr/local/lib/python3.10/dist-packages (from tiktoken->openai-whisper) (2.31.0)\n",
            "Requirement already satisfied: typing-extensions>=4.8.0 in /usr/local/lib/python3.10/dist-packages (from torch->openai-whisper) (4.12.2)\n",
            "Requirement already satisfied: sympy in /usr/local/lib/python3.10/dist-packages (from torch->openai-whisper) (1.12.1)\n",
            "Requirement already satisfied: networkx in /usr/local/lib/python3.10/dist-packages (from torch->openai-whisper) (3.3)\n",
            "Requirement already satisfied: jinja2 in /usr/local/lib/python3.10/dist-packages (from torch->openai-whisper) (3.1.4)\n",
            "Requirement already satisfied: fsspec in /usr/local/lib/python3.10/dist-packages (from torch->openai-whisper) (2023.6.0)\n",
            "Collecting nvidia-cuda-nvrtc-cu12==12.1.105 (from torch->openai-whisper)\n",
            "  Using cached nvidia_cuda_nvrtc_cu12-12.1.105-py3-none-manylinux1_x86_64.whl (23.7 MB)\n",
            "Collecting nvidia-cuda-runtime-cu12==12.1.105 (from torch->openai-whisper)\n",
            "  Using cached nvidia_cuda_runtime_cu12-12.1.105-py3-none-manylinux1_x86_64.whl (823 kB)\n",
            "Collecting nvidia-cuda-cupti-cu12==12.1.105 (from torch->openai-whisper)\n",
            "  Using cached nvidia_cuda_cupti_cu12-12.1.105-py3-none-manylinux1_x86_64.whl (14.1 MB)\n",
            "Collecting nvidia-cudnn-cu12==8.9.2.26 (from torch->openai-whisper)\n",
            "  Using cached nvidia_cudnn_cu12-8.9.2.26-py3-none-manylinux1_x86_64.whl (731.7 MB)\n",
            "Collecting nvidia-cublas-cu12==12.1.3.1 (from torch->openai-whisper)\n",
            "  Using cached nvidia_cublas_cu12-12.1.3.1-py3-none-manylinux1_x86_64.whl (410.6 MB)\n",
            "Collecting nvidia-cufft-cu12==11.0.2.54 (from torch->openai-whisper)\n",
            "  Using cached nvidia_cufft_cu12-11.0.2.54-py3-none-manylinux1_x86_64.whl (121.6 MB)\n",
            "Collecting nvidia-curand-cu12==10.3.2.106 (from torch->openai-whisper)\n",
            "  Using cached nvidia_curand_cu12-10.3.2.106-py3-none-manylinux1_x86_64.whl (56.5 MB)\n",
            "Collecting nvidia-cusolver-cu12==11.4.5.107 (from torch->openai-whisper)\n",
            "  Using cached nvidia_cusolver_cu12-11.4.5.107-py3-none-manylinux1_x86_64.whl (124.2 MB)\n",
            "Collecting nvidia-cusparse-cu12==12.1.0.106 (from torch->openai-whisper)\n",
            "  Using cached nvidia_cusparse_cu12-12.1.0.106-py3-none-manylinux1_x86_64.whl (196.0 MB)\n",
            "Collecting nvidia-nccl-cu12==2.20.5 (from torch->openai-whisper)\n",
            "  Using cached nvidia_nccl_cu12-2.20.5-py3-none-manylinux2014_x86_64.whl (176.2 MB)\n",
            "Collecting nvidia-nvtx-cu12==12.1.105 (from torch->openai-whisper)\n",
            "  Using cached nvidia_nvtx_cu12-12.1.105-py3-none-manylinux1_x86_64.whl (99 kB)\n",
            "Collecting nvidia-nvjitlink-cu12 (from nvidia-cusolver-cu12==11.4.5.107->torch->openai-whisper)\n",
            "  Downloading nvidia_nvjitlink_cu12-12.5.40-py3-none-manylinux2014_x86_64.whl (21.3 MB)\n",
            "\u001b[2K     \u001b[90m━━━━━━━━━━━━━━━━━━━━━━━━━━━━━━━━━━━━━━━━\u001b[0m \u001b[32m21.3/21.3 MB\u001b[0m \u001b[31m71.2 MB/s\u001b[0m eta \u001b[36m0:00:00\u001b[0m\n",
            "\u001b[?25hRequirement already satisfied: charset-normalizer<4,>=2 in /usr/local/lib/python3.10/dist-packages (from requests>=2.26.0->tiktoken->openai-whisper) (3.3.2)\n",
            "Requirement already satisfied: idna<4,>=2.5 in /usr/local/lib/python3.10/dist-packages (from requests>=2.26.0->tiktoken->openai-whisper) (3.7)\n",
            "Requirement already satisfied: urllib3<3,>=1.21.1 in /usr/local/lib/python3.10/dist-packages (from requests>=2.26.0->tiktoken->openai-whisper) (2.0.7)\n",
            "Requirement already satisfied: certifi>=2017.4.17 in /usr/local/lib/python3.10/dist-packages (from requests>=2.26.0->tiktoken->openai-whisper) (2024.6.2)\n",
            "Requirement already satisfied: MarkupSafe>=2.0 in /usr/local/lib/python3.10/dist-packages (from jinja2->torch->openai-whisper) (2.1.5)\n",
            "Requirement already satisfied: mpmath<1.4.0,>=1.1.0 in /usr/local/lib/python3.10/dist-packages (from sympy->torch->openai-whisper) (1.3.0)\n",
            "Building wheels for collected packages: openai-whisper\n",
            "  Building wheel for openai-whisper (pyproject.toml) ... \u001b[?25l\u001b[?25hdone\n",
            "  Created wheel for openai-whisper: filename=openai_whisper-20231117-py3-none-any.whl size=801358 sha256=9588f3d77a3cb85d49e5c75d4acd2dd4cd31f0e5b96836226a1e77a90af8b2ad\n",
            "  Stored in directory: /root/.cache/pip/wheels/d0/85/e1/9361b4cbea7dd4b7f6702fa4c3afc94877952eeb2b62f45f56\n",
            "Successfully built openai-whisper\n",
            "Installing collected packages: nvidia-nvtx-cu12, nvidia-nvjitlink-cu12, nvidia-nccl-cu12, nvidia-curand-cu12, nvidia-cufft-cu12, nvidia-cuda-runtime-cu12, nvidia-cuda-nvrtc-cu12, nvidia-cuda-cupti-cu12, nvidia-cublas-cu12, tiktoken, nvidia-cusparse-cu12, nvidia-cudnn-cu12, nvidia-cusolver-cu12, openai-whisper\n",
            "Successfully installed nvidia-cublas-cu12-12.1.3.1 nvidia-cuda-cupti-cu12-12.1.105 nvidia-cuda-nvrtc-cu12-12.1.105 nvidia-cuda-runtime-cu12-12.1.105 nvidia-cudnn-cu12-8.9.2.26 nvidia-cufft-cu12-11.0.2.54 nvidia-curand-cu12-10.3.2.106 nvidia-cusolver-cu12-11.4.5.107 nvidia-cusparse-cu12-12.1.0.106 nvidia-nccl-cu12-2.20.5 nvidia-nvjitlink-cu12-12.5.40 nvidia-nvtx-cu12-12.1.105 openai-whisper-20231117 tiktoken-0.7.0\n"
          ]
        },
        {
          "output_type": "stream",
          "name": "stderr",
          "text": [
            "100%|███████████████████████████████████████| 139M/139M [00:01<00:00, 82.6MiB/s]\n"
          ]
        }
      ]
    },
    {
      "cell_type": "code",
      "source": [
        "import re\n",
        "import whisper\n",
        "\n",
        "# Load the Whisper model\n",
        "model = whisper.load_model(\"base\")\n",
        "\n",
        "# Transcribe the audio\n",
        "def transcribe_audio(audio_path):\n",
        "    result = model.transcribe(audio_path)\n",
        "    return result['segments']\n",
        "\n",
        "# Function to refine the time-aligned transcripts\n",
        "def refine_segments(segments, max_chunk_length=15.0, min_chunk_length=5.0, overlap=0.5):\n",
        "    refined_segments = []\n",
        "    current_segment = []\n",
        "    current_start = None\n",
        "\n",
        "    for segment in segments:\n",
        "        start, end, text = segment['start'], segment['end'], segment['text']\n",
        "\n",
        "        if current_start is None:\n",
        "            current_start = start\n",
        "\n",
        "        # Add segment to current chunk\n",
        "        current_segment.append(segment)\n",
        "        current_chunk_length = end - current_start\n",
        "\n",
        "        # Check if the current chunk exceeds max_chunk_length or ends with a sentence\n",
        "        if current_chunk_length > max_chunk_length or re.search(r'[.!?]', text.strip()):\n",
        "            # Create a new chunk\n",
        "            chunk_text = \" \".join([seg['text'] for seg in current_segment])\n",
        "            refined_segments.append({\n",
        "                \"start_time\": current_start,\n",
        "                \"end_time\": end,\n",
        "                \"text\": chunk_text,\n",
        "            })\n",
        "            # Start a new segment\n",
        "            current_segment = []\n",
        "            current_start = end + overlap\n",
        "\n",
        "    # Add the last segment if any\n",
        "    if current_segment:\n",
        "        chunk_text = \" \".join([seg['text'] for seg in current_segment])\n",
        "        refined_segments.append({\n",
        "            \"start_time\": current_start,\n",
        "            \"end_time\": end,\n",
        "            \"text\": chunk_text,\n",
        "        })\n",
        "\n",
        "    # Merge short segments with adjacent ones\n",
        "    final_segments = []\n",
        "    current_segment = []\n",
        "    current_start = None\n",
        "\n",
        "    for segment in refined_segments:\n",
        "        start, end, text = segment['start_time'], segment['end_time'], segment['text']\n",
        "\n",
        "        if current_start is None:\n",
        "            current_start = start\n",
        "\n",
        "        # Add segment to current chunk\n",
        "        current_segment.append(segment)\n",
        "        current_chunk_length = end - current_start\n",
        "\n",
        "        # Check if the current chunk is less than min_chunk_length\n",
        "        if current_chunk_length < min_chunk_length and len(final_segments) > 0:\n",
        "            # Merge with previous segment\n",
        "            final_segments[-1]['end_time'] = end\n",
        "            final_segments[-1]['text'] += \" \" + text\n",
        "        else:\n",
        "            # Create a new chunk\n",
        "            final_segments.append({\n",
        "                \"start_time\": current_start,\n",
        "                \"end_time\": end,\n",
        "                \"text\": text,\n",
        "            })\n",
        "            current_segment = []\n",
        "            current_start = end\n",
        "\n",
        "    return final_segments\n",
        "\n",
        "# Example Usage\n",
        "segments = transcribe_audio(audio_path)\n",
        "refined_segments = refine_segments(segments)\n",
        "\n",
        "# Display the refined segments\n",
        "for segment in refined_segments:\n",
        "    print(segment)\n"
      ],
      "metadata": {
        "colab": {
          "base_uri": "https://localhost:8080/"
        },
        "id": "kBay-Ben0VQ2",
        "outputId": "d0dacc6b-2230-4dc3-e246-f6f8e95480c8"
      },
      "execution_count": 3,
      "outputs": [
        {
          "output_type": "stream",
          "name": "stdout",
          "text": [
            "{'start_time': 0.0, 'end_time': 5.6000000000000005, 'text': ' Congratulations to you Mr. Raghavan for that. Thank you so much for joining us.  Over to you.'}\n",
            "{'start_time': 3.6, 'end_time': 10.0, 'text': ' Hi everybody. How are you?'}\n",
            "{'start_time': 10.0, 'end_time': 20.48, 'text': \" Okay I am not hearing this at all. It's like a post lunch energy downer or something.  Let's hear it. Are you guys awake?\"}\n",
            "{'start_time': 16.88, 'end_time': 31.52, 'text': \" All right you better be because we have a superstar guest here.  You heard the 41 million dollars and I didn't hear honestly anything she said after that.\"}\n",
            "{'start_time': 26.8, 'end_time': 38.0, 'text': \" So we're going to ask for about 40 million dollars from him by the end of this conversation.\"}\n",
            "{'start_time': 38.0, 'end_time': 44.88, 'text': \" But let's get started. I want to introduce Vivek and Pratius, she's co-founder who's not here.\"}\n",
            "{'start_time': 44.88, 'end_time': 52.400000000000006, 'text': ' We wanted to start with a playing a video of what OpenHathe does. I encourage all of you to go'}\n",
            "{'start_time': 52.400000000000006, 'end_time': 59.199999999999996, 'text': ' to the website, www.severalm.ai and check it out. But let me start by introducing Vivek. Vivek is a'}\n",
            "{'start_time': 59.199999999999996, 'end_time': 65.36, 'text': ' dear friend and he is very, very modest. One of the most modest guys that I know. But his personal'}\n",
            "{'start_time': 65.36, 'end_time': 71.68, 'text': \" journey Vivek, you've got a PhD from Carnegie Mellon. You've sat in and sold the company to Magma.\"}\n",
            "{'start_time': 71.68, 'end_time': 77.68, 'text': \" Vivek and I moved back to India from both in the valley on the same day actually. And you've been\"}\n",
            "{'start_time': 77.68, 'end_time': 84.4, 'text': \" in India for the last 16 years. And what most people don't know is your journey at Adhar.\"}\n",
            "{'start_time': 84.4, 'end_time': 93.68, 'text': ' He spent 13 years selflessly at Adhar. Nobody would have heard of him. But he was a pioneering'}\n",
            "{'start_time': 93.68, 'end_time': 100.08000000000001, 'text': ' technology visionary behind Adhar which we all take for granted today. So please give it out.'}\n",
            "{'start_time': 100.08000000000001, 'end_time': 113.84, 'text': \" Honestly when people, when I think of selfless service, truly selfless service, I always think of  Vivek. And since then he also was at AI for Bharat which we're going to touch on where he met Pratiush's\"}\n",
            "{'start_time': 113.84, 'end_time': 120.72, 'text': ' other co-founder. Pratiush had a PhD from ETH at Zurich. He was in the IBM research. He was at'}\n",
            "{'start_time': 120.72, 'end_time': 127.12, 'text': \" Microsoft Research playing a key role and a faculty at IIT Madras and at AI for Bharat. So that's\"}\n",
            "{'start_time': 127.12, 'end_time': 132.48, 'text': \" a little brief introduction about them. These guys are modest, modest engineers. So they don't\"}\n",
            "{'start_time': 132.48, 'end_time': 138.64, 'text': \" do their own hon. So forgive me for tooting their hon in this case. But let's jump right in\"}\n",
            "{'start_time': 138.64, 'end_time': 151.51999999999998, 'text': \" about the money. Funding. 41 million bucks man. That's a lot of money. Every entrepreneur here is  saying what the hell did these guys do? What did the investors see to write such a big check?\"}\n",
            "{'start_time': 146.72, 'end_time': 159.83999999999997, 'text': \" No, I think it's a trend of what's going on in India. I think that for the very first time,\"}\n",
            "{'start_time': 159.83999999999997, 'end_time': 170.88, 'text': \" I think the investors have looked at, let's try and build something deep-tech out of the country.  And let's try to figure out how to build something as a foundational technology out of the country.\"}\n",
            "{'start_time': 166.32, 'end_time': 180.32, 'text': \" And that's really what's really exciting. And I think that about, as Balav was mentioning for\"}\n",
            "{'start_time': 180.32, 'end_time': 193.6, 'text': \" the past 15 years, I've been working in both digital public infrastructure and kind of  non-profit kind of things. But when this whole thing of generative AI came about,\"}\n",
            "{'start_time': 193.6, 'end_time': 200.88, 'text': ' we said, okay, how can I actually make a difference in this space? And I said, maybe this is the'}\n",
            "{'start_time': 200.88, 'end_time': 207.92, 'text': ' opportunity to actually come out and really build something. And the only way that we realize that'}\n",
            "{'start_time': 207.92, 'end_time': 219.12, 'text': \" you can do it is actually in the private sector. And I think that's, and then when we went out  there and we said, we want to build something, which is a continuation. And fundamentally,\"}\n",
            "{'start_time': 214.88, 'end_time': 231.35999999999999, 'text': \" the question is the reason of what we want to do at Server May I is we want to basically make  generative AI available and accessible to the people in the country. And that's the intent.\"}\n",
            "{'start_time': 231.35999999999999, 'end_time': 236.48, 'text': ' And when we said that we want to do this, there was a resonance in the investment community.'}\n",
            "{'start_time': 236.48, 'end_time': 253.44, 'text': \" And I think it's a responsibility to really to show that something like this can be built out of  India. So we see that as as as as confidence and a responsibility. And I also hope it's a trend  that that you know that there are many more people like like us who are backed. Because if you look\"}\n",
            "{'start_time': 248.8, 'end_time': 269.04, 'text': \" at it, maybe it's a large number in a you know in the Indian context, but in the global context,  I think there is just there should be many, many more entrepreneurs who are back to do things in  India. I'm going to come back to the many more entrepreneurs. I'm obviously going to ask you about\"}\n",
            "{'start_time': 269.04, 'end_time': 276.40000000000003, 'text': \" Bhavish's Krutram. So we're going to come back to that question. But again, 41 million dollars.\"}\n",
            "{'start_time': 276.40000000000003, 'end_time': 286.32000000000005, 'text': \" I mean, all of what you said, you know, two million dollars, you know, that's a good no-one of money  for a startup which you know, which has not yet built anything. What are you going to do with all this money?\"}\n",
            "{'start_time': 286.32000000000005, 'end_time': 292.08000000000004, 'text': ' I can call the problem. I can have a perfect solution for the problem.'}\n",
            "{'start_time': 292.08000000000004, 'end_time': 301.84, 'text': \" I think in the last week I've got lots of calls, lots of people telling me how I can do.  No, but I know you first. I'll be landed in the country the same day. I'm in the front of the queue.\"}\n",
            "{'start_time': 297.52000000000004, 'end_time': 309.52, 'text': ' No, but but but honestly, I think the key thing in this is is to putting together an amazing team.'}\n",
            "{'start_time': 309.52, 'end_time': 320.0, 'text': ' And we actually have an amazing team, but we believe that it is talent that will drive this kind of  thing. And so it is it is to get get key talent. And of course, the other thing is compute. This is'}\n",
            "{'start_time': 320.0, 'end_time': 326.88, 'text': ' extremely expensive compute wise to actually do these kinds of things. And I think that those are the'}\n",
            "{'start_time': 326.88, 'end_time': 339.12, 'text': \" two primary things that that you know, we'd use this for. Okay. I'm computing in my own head as an  entrepreneur talent. Okay, you have like 2015 people. How much are you paying these guys? But okay,\"}\n",
            "{'start_time': 334.32, 'end_time': 348.32, 'text': \" well, you won't touch on that. But let's talk about what you guys actually built. What is what is  open Hathi? Well, how would you explain open Hathi to many people here who might not have no\"}\n",
            "{'start_time': 344.4, 'end_time': 354.96, 'text': ' about it? So I think open Hathi is so, so first of all, right? We come from I personally come from'}\n",
            "{'start_time': 354.96, 'end_time': 361.91999999999996, 'text': ' the open source ecosystem and we we and also from the DPI ecosystem. So we believe that for this'}\n",
            "{'start_time': 361.91999999999996, 'end_time': 367.84, 'text': ' to work, we need the ecosystem to be successful. And as a result of that, one of the first things we'}\n",
            "{'start_time': 367.84, 'end_time': 373.12, 'text': ' did was, hey, there are these open source large language models that exist, right? I mean,'}\n",
            "{'start_time': 373.12, 'end_time': 378.15999999999997, 'text': ' everybody knows about the Lama family from Meta. They also know there are others like Mr.'}\n",
            "{'start_time': 378.15999999999997, 'end_time': 384.56, 'text': ' Al, there are a bunch of open source, you know, large language models. And then we said,'}\n",
            "{'start_time': 384.56, 'end_time': 390.64000000000004, 'text': ' is there any way that take an existing open source model and teach it language skills, right?'}\n",
            "{'start_time': 390.64000000000004, 'end_time': 401.36, 'text': ' I mean, you know, language and that is really the, you know, what we decide, what we said that  can we do something like that? And is this a, you know, relatively frugal way of actually,'}\n",
            "{'start_time': 401.36, 'end_time': 409.28000000000003, 'text': ' you know, making models, you know, work in diverse languages because the truth is still today.'}\n",
            "{'start_time': 409.28000000000003, 'end_time': 419.76, 'text': ' I mean, if you look at the amount of data and knowledge, it is still English dominates these  things. And I think that how do you actually take and make it understand Indian language,'}\n",
            "{'start_time': 419.76, 'end_time': 425.44, 'text': ' understand Indian context and all of those things in actually a, in an efficient way? And therefore,'}\n",
            "{'start_time': 425.44, 'end_time': 431.84, 'text': \" this was an attempt through that. And it's an open hearty is, you know, is currently based on\"}\n",
            "{'start_time': 431.84, 'end_time': 443.12, 'text': \" the Lama 7 billion model, but we'll be releasing many more models in different languages,  different sizes and things like that as part of this, as part of this series. And of course,\"}\n",
            "{'start_time': 443.12, 'end_time': 451.76, 'text': \" you know, we will be building further models on those and doing other things to actually,  and we'll also have end points that people can use. So therefore, it's not, it's definitely,\"}\n",
            "{'start_time': 451.76, 'end_time': 462.71999999999997, 'text': \" you know, something that people can can can use to things. And the, that's, that's the essence of,  of what, what this open hearty is. So what does it mean to people in the audience here who are either\"}\n",
            "{'start_time': 458.08, 'end_time': 469.44, 'text': ' doing their own startups or a business or, or, or developers? How should they look at Open AI?'}\n",
            "{'start_time': 469.44, 'end_time': 476.15999999999997, 'text': ' Oh, sorry, sorry, not open. No, yeah, no, no, I think, I think the way you look at it is that we,'}\n",
            "{'start_time': 476.15999999999997, 'end_time': 482.0, 'text': \" one of the important things that we are doing is we're not just building models. We are also going\"}\n",
            "{'start_time': 482.0, 'end_time': 497.84000000000003, 'text': ' to be building a platform, a platform for developers where you can actually use a combination of  various different kinds of models, some which are from us, some which are open source, some  which may not be open source, and actually to actually pull together and figure out how to'}\n",
            "{'start_time': 497.84000000000003, 'end_time': 509.76, 'text': \" deploy, you know, a generative AI applications at scale and understand and evaluate their performance  in an efficient manner. And that's something that we are planning to do at this, and, and, and this\"}\n",
            "{'start_time': 509.76, 'end_time': 519.6800000000001, 'text': \" platform is, you know, in the next couple of months, we'll be coming out there, it will be available  to developers. But of course, those who want to start with the open source things and, and hack,\"}\n",
            "{'start_time': 519.6800000000001, 'end_time': 525.52, 'text': \" but that of course, please go ahead and do that as well. That's, that's phenomenal. But how does\"}\n",
            "{'start_time': 525.52, 'end_time': 533.28, 'text': ' it compare to Open AI itself or Google? See, at least the things that we are doing now, right? I mean,'}\n",
            "{'start_time': 533.28, 'end_time': 550.56, 'text': ' one of the things that when we thought about a building server, we said we want to build a  full stack generative AI company and, and different people have, and, and our understanding of  full stack is that we need to know how to train models from scratch. We need to know how to kind of'}\n",
            "{'start_time': 550.56, 'end_time': 556.48, 'text': ' figure out how to deploy models to solve real world use cases. And we need to play in the ecosystem'}\n",
            "{'start_time': 556.48, 'end_time': 562.9599999999999, 'text': ' to make sure that we can actually deploy population scale applications, right? So we were'}\n",
            "{'start_time': 562.9599999999999, 'end_time': 568.0, 'text': ' thinking about all of these things. But still the models we were talking about are, you know,'}\n",
            "{'start_time': 568.0, 'end_time': 573.44, 'text': ' fairly small models. They are fairly small models, right? The seven to maybe up to 70 billion kind'}\n",
            "{'start_time': 573.44, 'end_time': 578.48, 'text': \" of range we're talking about. While these models like Open AI and, and, and Google are obviously\"}\n",
            "{'start_time': 578.48, 'end_time': 583.6800000000001, 'text': ' much bigger models, right? But we want to, but, but, you know, we want to understand the techniques and'}\n",
            "{'start_time': 583.6800000000001, 'end_time': 595.5999999999999, 'text': ' be able to build that muscle to do all of these things to, to, to make it, to make it available to  people. Now those models are, I mean, as I said, you know, I think that there is space for all of'}\n",
            "{'start_time': 595.5999999999999, 'end_time': 601.92, 'text': ' those things. And I think as even Sridhar was talking about earlier in the day, we believe that'}\n",
            "{'start_time': 601.92, 'end_time': 619.4399999999999, 'text': ' these smaller models can do very, I mean, many, many kind of domain specific tasks extremely well,  probably even better than the, than the larger models. And that is really one of the key areas.  And so the, for the value of these kinds of things, right? We are not aiming in these'}\n",
            "{'start_time': 614.64, 'end_time': 624.88, 'text': \" most set of models to, to build any AGI, right? That's not our goal here. Our goal is to make things\"}\n",
            "{'start_time': 624.88, 'end_time': 635.76, 'text': ' that work extremely well for domain specific use cases or, or increase accessibility through language  and, and all of those kinds of things. And obviously all of this unique to India. But what is unique'}\n",
            "{'start_time': 635.76, 'end_time': 646.9599999999999, 'text': ' about India? I mean, like, what is, is anything special in our ecosystem that, that makes small models  focused with Indian languages better for, more suited for our problems.'}\n",
            "{'start_time': 643.28, 'end_time': 653.12, 'text': ' So I think that, I mean, there are quite a few things that are unique about India, right?'}\n",
            "{'start_time': 653.12, 'end_time': 659.12, 'text': ' The first thing is, I think, that we are a voice first nation. So therefore, I think voice'}\n",
            "{'start_time': 659.12, 'end_time': 670.8, 'text': \" has to be the core to doing things. The other thing, of course, India is extremely,  it's a cost-conscious country from, from, from a cost perspective. Now there, I would say that\"}\n",
            "{'start_time': 666.16, 'end_time': 685.1999999999999, 'text': ' there are lots of interesting use cases where you can use Open AI and the cost structure works  that when, when, when, when, when depending on your application. But when you want to scale things  to a massive level and make it work, then, then you have to figure out how small models work. So'}\n",
            "{'start_time': 680.3199999999999, 'end_time': 690.24, 'text': \" that's something that is also specific to India. The third thing which is specific to India is\"}\n",
            "{'start_time': 690.24, 'end_time': 696.4, 'text': ' really the success that India has had in building all this digital public infrastructure. When you'}\n",
            "{'start_time': 696.4, 'end_time': 713.36, 'text': \" add the AI layer on top of it, then you can actually get dramatic, you know, dramatic, I think,  multiplicative combinatorial effects based on doing things like that. That's a phenomenal point.  Like, you know, it's like DPI to the power of AI almost in some ways. And as a part of Adar,\"}\n",
            "{'start_time': 708.8, 'end_time': 719.84, 'text': \" a building, Adar, no better person than you. So in summary, what I'm hearing is small models,\"}\n",
            "{'start_time': 719.84, 'end_time': 731.04, 'text': \" specialized with trained with Indic specific language data, suited for Indian problems,  at a compelling cost point, will be suited for us. We're not solving some world autonomous\"}\n",
            "{'start_time': 731.04, 'end_time': 736.16, 'text': \" vehicles or some complex problem. We're solving some basic problems specifically focused on\"}\n",
            "{'start_time': 736.16, 'end_time': 741.28, 'text': ' voice with multiple languages. That is what you see as a future. Am I paraphrasing this correctly?'}\n",
            "{'start_time': 741.28, 'end_time': 746.64, 'text': ' No, yeah. So I think that certainly, I mean, voice and Indian languages are an important part'}\n",
            "{'start_time': 746.64, 'end_time': 751.68, 'text': ' of our strategy. But we will be building, you know, custom models to solve various other kinds'}\n",
            "{'start_time': 751.68, 'end_time': 757.52, 'text': \" of problems as well, right? Let's not just limited to, I think, in different domains, working\"}\n",
            "{'start_time': 757.52, 'end_time': 766.9599999999999, 'text': \" in different domains, making building things based on unique data that enterprises have and things  like that. So that's something that we'll also look at. Fair enough. So coming back to the\"}\n",
            "{'start_time': 766.9599999999999, 'end_time': 773.76, 'text': ' elephant in the room, no fun intended with OpenHathe, what about Bhabhi Shakirwal and Krutrim?'}\n",
            "{'start_time': 773.76, 'end_time': 779.12, 'text': \" What does your take on that? I think it's great. I think it's wonderful, right? I mean, the fact that\"}\n",
            "{'start_time': 779.12, 'end_time': 786.24, 'text': ' the technology AI is so important that we need multiple people working on it. The fact that'}\n",
            "{'start_time': 786.24, 'end_time': 791.92, 'text': ' there are other people thinking is actually validates that this is an important problem to be solved.'}\n",
            "{'start_time': 791.92, 'end_time': 799.2, 'text': ' And I think that we need everybody to come together and do that. So I really welcome that. I think'}\n",
            "{'start_time': 799.2, 'end_time': 804.72, 'text': \" it's great. And I think that there'll be different people who will have different takes as to how\"}\n",
            "{'start_time': 804.72, 'end_time': 810.4, 'text': ' to solve this kind of problem. And hopefully as a result of that, the entire ecosystem benefits.'}\n",
            "{'start_time': 810.4, 'end_time': 819.6800000000001, 'text': \" I have one more question and then I want to talk about some of the predictions that you've boldly  made. So Vivek, I usually ask people about what do you think the future will be and everybody\"}\n",
            "{'start_time': 819.6800000000001, 'end_time': 825.12, 'text': ' usually hedges. I ask Vivek, what do you think is going to happen by December 2024? What do you'}\n",
            "{'start_time': 825.12, 'end_time': 834.5600000000001, 'text': ' think sitting in this room one year later, we can expect? And you made three bold predictions.  So I want to talk about that before that I have one last question. What are the top three'}\n",
            "{'start_time': 830.24, 'end_time': 844.4, 'text': ' applications that you think are relevant for India? You would see the talk about medical.  Well, you know, any quick summary, what do you think your top three apps are for India for AI?'}\n",
            "{'start_time': 839.52, 'end_time': 864.2399999999999, 'text': \" So I mean, I think that as you said, things like education and medical are clearly areas where  I think that things can be leveraged. The whole idea of all these kind of the DPI aspect of it  is another major application where things can happen. And here I'm talking about country-specific.\"}\n",
            "{'start_time': 859.6800000000001, 'end_time': 870.4, 'text': \" And I think the whole idea which we've also talked about was the concept of software. And I think\"}\n",
            "{'start_time': 870.4, 'end_time': 883.04, 'text': \" that clearly we have a very large software industry and how to reimagine those things in this  context is also something that's going to be big. Fair enough. Are you guys ready for Vivek Aguens' bold\"}\n",
            "{'start_time': 883.04, 'end_time': 891.84, 'text': \" predictions? Yes? No, I'm not hearing any. This is like a big deal. He's like one of the smartest  guys that I know. He wants to make three predictions. You don't want to hear it.\"}\n",
            "{'start_time': 888.9599999999999, 'end_time': 899.52, 'text': ' All right. So I asked him, what do you think, you know, year later, what do you think we can expect?'}\n",
            "{'start_time': 899.52, 'end_time': 913.44, 'text': \" And he came up with three things and usually people give very blind answers when you ask  questions like this because they don't want to be caught wrong. Not Vivek. Vivek is bold. So he basically  said three things and I'm going to list out the three things and then he's asking about it.\"}\n",
            "{'start_time': 909.2800000000001, 'end_time': 923.5200000000001, 'text': \" So number one, he says, I will prefer to talk to an automated customer service than a real person  because they'll give me a better answer. So that is Vivek Aguens' prediction. Number one.\"}\n",
            "{'start_time': 923.5200000000001, 'end_time': 936.96, 'text': \" So number two is that when everybody is talking about a GPU shortage, Vivek predicts that there'll  be a GPU glutton India. He thinks there'll be too much GPU. So if you want a short and media stock,\"}\n",
            "{'start_time': 936.96, 'end_time': 943.0400000000001, 'text': ' this is a good time. And number three, which was extremely unexpected, he said some companies'}\n",
            "{'start_time': 943.0400000000001, 'end_time': 951.2800000000001, 'text': ' will suddenly die. Okay. So Vivek, these are not what I expected. So you want to quickly talk about'}\n",
            "{'start_time': 951.2800000000001, 'end_time': 956.72, 'text': \" each of them. Why you just came up with these and then we'll throw the open audience questions.\"}\n",
            "{'start_time': 956.72, 'end_time': 963.9200000000001, 'text': \" So I don't think I quite said it the way that that ballad is marketing ideas. But it's interesting.\"}\n",
            "{'start_time': 963.9200000000001, 'end_time': 979.36, 'text': \" But I think the first thing that we said is I think that and I don't think that this is I think  there will come a time when in areas of customer service, etc. When you want to do something\"}\n",
            "{'start_time': 979.36, 'end_time': 991.1999999999999, 'text': \" very specific, today when you call when you call some kind of a bot, you actually end up,  you mostly try to disconnect the call or you're extremely upset that you're talking to a bot.\"}\n",
            "{'start_time': 991.1999999999999, 'end_time': 1007.5200000000001, 'text': \" But I think that there will come a time and I'm predicting it sooner than later that you will  actually get better responses from the bot than what the human representative, that at least the  average human representative that you could talk to could give. And I think that that's just a\"}\n",
            "{'start_time': 1007.5200000000001, 'end_time': 1019.12, 'text': \" I just said that that there will come a time where you know it's not a human you're talking to,  but it's probably more likely to solve your intent than the human person. That's just something that\"}\n",
            "{'start_time': 1019.12, 'end_time': 1027.28, 'text': \" that I think that could happen. Definitely controversial, but we'll let it go. What about the GPU\"}\n",
            "{'start_time': 1027.28, 'end_time': 1034.56, 'text': \" glut? No, no, I don't think that. So I think that the fact that there is a tremendous shortage right\"}\n",
            "{'start_time': 1034.56, 'end_time': 1040.32, 'text': ' now, I think that shortage will ease because that is how the cycles of things go, right? When'}\n",
            "{'start_time': 1040.32, 'end_time': 1051.3600000000001, 'text': ' when you when you know I think the fact that there was such a severe shortage last year,  you know, basically caused a number of different players to ramp up in various kinds of forms.'}\n",
            "{'start_time': 1051.3600000000001, 'end_time': 1056.72, 'text': ' And I think that that that will always go in a cycle. But you may we may find out that there are'}\n",
            "{'start_time': 1056.72, 'end_time': 1063.1200000000001, 'text': \" many, many more interesting problems that people will be able to solve. I'm I still remember,\"}\n",
            "{'start_time': 1063.1200000000001, 'end_time': 1075.52, 'text': ' you know, we were at at a at a at a at a genie event in in Bangalore and we were talking to  people and we said, you know, how many people have access to, you know, four a hundred. This was'}\n",
            "{'start_time': 1075.52, 'end_time': 1084.48, 'text': ' the question that I asked and nobody in the room and these are all extremely enthusiastic genie  people and nobody had access. And I think that thing is going to change. You will be able to get'}\n",
            "{'start_time': 1084.48, 'end_time': 1095.68, 'text': ' these kinds of things and people who want to hack and do things will have access to these things  at in without, you know, having to write a, you know, a major check check. So the way is also a'}\n",
            "{'start_time': 1095.68, 'end_time': 1100.72, 'text': ' semi-conductor guy before he went into other. So I would take his predictions very seriously. So I'}\n",
            "{'start_time': 1100.72, 'end_time': 1105.92, 'text': \" don't know what I want to sell my immediate stock. I would not do that. But that's not what I said.\"}\n",
            "{'start_time': 1105.92, 'end_time': 1114.24, 'text': ' I want to blame you for this. But the third one is pretty strange. You know, companies are born'}\n",
            "{'start_time': 1114.24, 'end_time': 1120.4, 'text': ' companies die, but you said some companies will suddenly die. What does that mean? No, I think'}\n",
            "{'start_time': 1120.4, 'end_time': 1127.0400000000002, 'text': ' see, I think the interesting thing is, and I think that it comes back to the fundamental nature of AI.'}\n",
            "{'start_time': 1127.0400000000002, 'end_time': 1134.16, 'text': ' AI is a tool, right? And you have to use that. And you have to use that within your business process,'}\n",
            "{'start_time': 1134.16, 'end_time': 1140.0, 'text': \" right? And how AI is being used, and so what's going to happen is that, I mean, I think this is true\"}\n",
            "{'start_time': 1140.0, 'end_time': 1152.24, 'text': \" with, you know, when someone said in terms of, you know, people, they said that the people who  leverage AI will be more effective than those who don't leverage AI. And that will\"}\n",
            "{'start_time': 1152.24, 'end_time': 1158.64, 'text': ' still for organizations also. Organizations that leverage AI in, fundamentally in their core'}\n",
            "{'start_time': 1158.64, 'end_time': 1163.68, 'text': \" business processes, will be more effective than those who don't, right? And I think that's the\"}\n",
            "{'start_time': 1163.68, 'end_time': 1169.92, 'text': \" thing. And you won't know the difference until one day it becomes too obvious, and it will be too\"}\n",
            "{'start_time': 1169.92, 'end_time': 1176.88, 'text': \" late. And I think that's the reason why everybody needs to think about what it means for your business,\"}\n",
            "{'start_time': 1176.88, 'end_time': 1182.4, 'text': ' because you will, everything will be fine. Everything will be fine. And one day somebody in your,'}\n",
            "{'start_time': 1182.4, 'end_time': 1192.8000000000002, 'text': \" either, either, either your competitor, your space or somebody brand new coming into your space  will be reimagining your business process completely. And at that stage, you will find that it's,\"}\n",
            "{'start_time': 1192.8000000000002, 'end_time': 1200.48, 'text': \" you know, it's a very big, very tall mountain to climb. And that's why I think it's important\"}\n",
            "{'start_time': 1200.48, 'end_time': 1215.12, 'text': \" for both people and entities to think about how they will, you know, they will upgrade themselves,  or they will modify their business processes to add to it.  That's a very nuanced answer. And everybody here who's running a business should really think about\"}\n",
            "{'start_time': 1210.8, 'end_time': 1224.24, 'text': \" it, because life will be the same, and then suddenly, suddenly something will, you know,  then it will be a step change. We make a few more questions, but I'm sure the audience has a\"}\n",
            "{'start_time': 1224.24, 'end_time': 1235.04, 'text': \" lot of questions for you. So how are we doing on time? Okay. So does, okay, a lot of questions,  so I'd love to, is there a mic that we can pass along?\"}\n",
            "{'start_time': 1231.76, 'end_time': 1247.6, 'text': \" Thank you. My name is Karthik. I work for IT Service Industry. So you're saying that you're\"}\n",
            "{'start_time': 1247.6, 'end_time': 1256.56, 'text': \" working on LLM, sorry, it's a fine tuned LLM on top of Lama. My basic question, fundamental\"}\n",
            "{'start_time': 1256.56, 'end_time': 1262.08, 'text': \" question is we don't have a foundation model for India. Most of the models are basically using\"}\n",
            "{'start_time': 1262.08, 'end_time': 1269.6799999999998, 'text': ' English or those kind of things. For example, Andrew was talking about the tokenizers and things'}\n",
            "{'start_time': 1269.6799999999998, 'end_time': 1280.08, 'text': ' like that. So are you working on anything like that? Or you want to use mostly the existing models  and run on top of it? Are you going to ask a good question? You ask a cherry question for himself.'}\n",
            "{'start_time': 1276.0, 'end_time': 1298.48, 'text': \" No, I think the interesting thing is that if you look at, and then we have actually a blog  on this on our website, I think one of the things that we've actually built a customised tokenizer,  which actually fundamentally changes the cost of some of these generations in Indian languages.\"}\n",
            "{'start_time': 1298.48, 'end_time': 1304.4, 'text': \" And I think that we're not just fine tuning. We're actually, we are leveraging the existing\"}\n",
            "{'start_time': 1304.4, 'end_time': 1327.0400000000002, 'text': \" retaining, but we are doing what's known as continual free training, which actually,  but having said that, you know, I think that when we have to figure out where is the data to  train an extremely large model from scratch and some of those things are things which will happen  over time. But I think that yes, I think that we will be doing various kinds of things. But\"}\n",
            "{'start_time': 1327.0400000000002, 'end_time': 1341.76, 'text': \" the interesting thing is that if I want to change the accessibility problem with an existing  open source model, how do I do that? And that's the problem that we have that we think we have  solved and is going to be the heart of this open-heart DCT. It's extremely well explained in the\"}\n",
            "{'start_time': 1337.28, 'end_time': 1350.0, 'text': \" blog even I could understand it. Hi, I'm Prishant. I work for a fit tech company. My question is like,\"}\n",
            "{'start_time': 1350.0, 'end_time': 1365.9199999999998, 'text': ' unlike China, we never had a consumer facing application coming out from India and in web one,  web two, crypto and all, why do you think it will be different this time in like AI? Because will'}\n",
            "{'start_time': 1365.9199999999998, 'end_time': 1373.52, 'text': ' BPI and other things will solve the same purpose, but the great five world did in China? Or do you'}\n",
            "{'start_time': 1373.52, 'end_time': 1388.56, 'text': ' think like in, because AI is a strategic sector, no outside country can work in NASA projects,  maybe the government contract will go to them. What is at least the mode here for an Indian company?'}\n",
            "{'start_time': 1388.56, 'end_time': 1399.76, 'text': \" So I think the question is, I don't know the answer to these questions, right? I mean, I think that\"}\n",
            "{'start_time': 1399.76, 'end_time': 1426.1599999999999, 'text': \" it's difficult to predict, but I do believe, and as I'm repeating, that the combinatorial effect of  being using Genai at a large scale in addition, along with the DPI work that we've done in India,  will have people. And I think that in the end, the intent is that people need to be able to use it,  and they will vote by things that are useful for them. And if that doesn't happen, you're right.\"}\n",
            "{'start_time': 1421.28, 'end_time': 1436.8799999999999, 'text': \" I think that we have to figure out what is the mechanism of delivery of apps, right?  I mean, in Bahu, where do Indians consume content? That's a question.\"}\n",
            "{'start_time': 1432.56, 'end_time': 1442.8799999999999, 'text': \" I'm so sorry, but we are out of time. Vivek will be outside. So he would be able to answer the\"}\n",
            "{'start_time': 1442.8799999999999, 'end_time': 1453.28, 'text': \" question. We have time for one last question. Can I just take one last? Thank you. Thank you. I'm Manish  Kudhari. I'm from ISBR Business School. Good that I got a chance to ask you this question.\"}\n",
            "{'start_time': 1448.48, 'end_time': 1463.84, 'text': ' During lunchtime, there were a few of our educationists whom we were talking about, and there was one  from school and we are from the MBA institutions. We were thinking of these present generations,'}\n",
            "{'start_time': 1463.84, 'end_time': 1469.44, 'text': ' how do we get them into what you are doing? There is one thing that they have been regularly,'}\n",
            "{'start_time': 1469.44, 'end_time': 1483.68, 'text': \" that the concentrations that they're working on, but artificial intelligence and getting into  this, getting them into their academics and making them a part of it is very important,  including the trainers who train them, making them future ready into what you are doing is amazing.\"}\n",
            "{'start_time': 1483.68, 'end_time': 1489.6000000000001, 'text': ' The speed that is growing, it is calling for a lot of training that needs to be done.'}\n",
            "{'start_time': 1489.6000000000001, 'end_time': 1494.88, 'text': ' Can you from your angle through some light on how we could make them future ready?'}\n",
            "{'start_time': 1494.88, 'end_time': 1503.52, 'text': ' How these people who are management graduates and from schools who are coming out,  how do we get into this part of technology that you spoke about?'}\n",
            "{'start_time': 1503.52, 'end_time': 1518.16, 'text': ' Oh, so this is really a challenge because I think everyone will need to understand at some level  what this technology does. I think that we have to rethink how we get everyone into this.'}\n",
            "{'start_time': 1518.16, 'end_time': 1524.32, 'text': ' And this kind of education has to be at many different levels. There are from a core set of'}\n",
            "{'start_time': 1524.32, 'end_time': 1535.6000000000001, 'text': \" having people who are extremely good at some, and there you don't need as many, but then there are  basically vast numbers of people who can actually leverage these tools. By the way, the most important\"}\n",
            "{'start_time': 1535.6000000000001, 'end_time': 1548.48, 'text': \" thing about, maybe that's part of what makes an LLM interesting, is that how you use it,  your mileage varies by that. And to understand how to actually leverage this in an interesting way,\"}\n",
            "{'start_time': 1548.48, 'end_time': 1557.28, 'text': ' something that we have to widely teach many, many people. And because asking the things in the right'}\n",
            "{'start_time': 1557.28, 'end_time': 1571.44, 'text': \" way and having the right kind of applications will make a huge difference to how people can  have these tools. Awesome. Thank you. Thank you very much Vivek. Very good luck to Sarvam and  good luck to India. I think it's going to be a lot of regular missionaries. Thanks, Palai.\"}\n",
            "{'start_time': 1566.96, 'end_time': 1574.96, 'text': ' Thank you, Mr. Raghavan.'}\n"
          ]
        }
      ]
    },
    {
      "cell_type": "code",
      "source": [
        "import re\n",
        "\n",
        "# Define a function to perform semantic chunking\n",
        "def semantic_chunking(segments, max_chunk_length=15.0):\n",
        "    chunks = []\n",
        "    chunk_id = 0\n",
        "    current_chunk = []\n",
        "    current_start = None\n",
        "\n",
        "    for segment in segments:\n",
        "        start, end, text = segment['start'], segment['end'], segment['text']\n",
        "\n",
        "        if current_start is None:\n",
        "            current_start = start\n",
        "\n",
        "        # Check if adding the current segment exceeds max_chunk_length\n",
        "        if end - current_start > max_chunk_length:\n",
        "            # Create a new chunk\n",
        "            chunk_text = \" \".join([seg['text'] for seg in current_chunk])\n",
        "            chunks.append({\n",
        "                \"chunk_id\": chunk_id,\n",
        "                \"chunk_length\": end - current_start,\n",
        "                \"text\": chunk_text,\n",
        "                \"start_time\": current_start,\n",
        "                \"end_time\": end,\n",
        "            })\n",
        "            chunk_id += 1\n",
        "            current_chunk = []\n",
        "            current_start = start\n",
        "\n",
        "        current_chunk.append(segment)\n",
        "\n",
        "    # Add the last chunk\n",
        "    if current_chunk:\n",
        "        chunk_text = \" \".join([seg['text'] for seg in current_chunk])\n",
        "        chunks.append({\n",
        "            \"chunk_id\": chunk_id,\n",
        "            \"chunk_length\": end - current_start,\n",
        "            \"text\": chunk_text,\n",
        "            \"start_time\": current_start,\n",
        "            \"end_time\": end,\n",
        "        })\n",
        "\n",
        "    return chunks\n",
        "\n",
        "chunks = semantic_chunking(segments)\n",
        "\n",
        "# Display the chunks\n",
        "for chunk in chunks:\n",
        "    print(chunk)\n"
      ],
      "metadata": {
        "colab": {
          "base_uri": "https://localhost:8080/"
        },
        "id": "WGEGDgVw1FgC",
        "outputId": "517f573f-81e1-4065-d5d3-304486705676"
      },
      "execution_count": 4,
      "outputs": [
        {
          "output_type": "stream",
          "name": "stdout",
          "text": [
            "{'chunk_id': 0, 'chunk_length': 16.88, 'text': ' Congratulations to you Mr. Raghavan for that. Thank you so much for joining us.  Over to you.  Hi everybody. How are you?', 'start_time': 0.0, 'end_time': 16.88}\n",
            "{'chunk_id': 1, 'chunk_length': 15.040000000000001, 'text': \" Okay I am not hearing this at all. It's like a post lunch energy downer or something.  Let's hear it. Are you guys awake?\", 'start_time': 11.76, 'end_time': 26.8}\n",
            "{'chunk_id': 2, 'chunk_length': 16.16, 'text': \" All right you better be because we have a superstar guest here.  You heard the 41 million dollars and I didn't hear honestly anything she said after that.\", 'start_time': 21.84, 'end_time': 38.0}\n",
            "{'chunk_id': 3, 'chunk_length': 19.28, 'text': \" So we're going to ask for about 40 million dollars from him by the end of this conversation.  But let's get started. I want to introduce Vivek and Pratius, she's co-founder who's not here.\", 'start_time': 33.120000000000005, 'end_time': 52.400000000000006}\n",
            "{'chunk_id': 4, 'chunk_length': 19.68, 'text': ' We wanted to start with a playing a video of what OpenHathe does. I encourage all of you to go  to the website, www.severalm.ai and check it out. But let me start by introducing Vivek. Vivek is a', 'start_time': 45.68, 'end_time': 65.36}\n",
            "{'chunk_id': 5, 'chunk_length': 18.48000000000001, 'text': \" dear friend and he is very, very modest. One of the most modest guys that I know. But his personal  journey Vivek, you've got a PhD from Carnegie Mellon. You've sat in and sold the company to Magma.\", 'start_time': 59.199999999999996, 'end_time': 77.68}\n",
            "{'chunk_id': 6, 'chunk_length': 21.440000000000012, 'text': \" Vivek and I moved back to India from both in the valley on the same day actually. And you've been  in India for the last 16 years. And what most people don't know is your journey at Adhar.\", 'start_time': 72.24, 'end_time': 93.68}\n",
            "{'chunk_id': 7, 'chunk_length': 21.52000000000001, 'text': ' He spent 13 years selflessly at Adhar. Nobody would have heard of him. But he was a pioneering  technology visionary behind Adhar which we all take for granted today. So please give it out.', 'start_time': 85.12, 'end_time': 106.64000000000001}\n",
            "{'chunk_id': 8, 'chunk_length': 18.39999999999999, 'text': \" Honestly when people, when I think of selfless service, truly selfless service, I always think of  Vivek. And since then he also was at AI for Bharat which we're going to touch on where he met Pratiush's\", 'start_time': 102.32000000000001, 'end_time': 120.72}\n",
            "{'chunk_id': 9, 'chunk_length': 18.639999999999986, 'text': \" other co-founder. Pratiush had a PhD from ETH at Zurich. He was in the IBM research. He was at  Microsoft Research playing a key role and a faculty at IIT Madras and at AI for Bharat. So that's\", 'start_time': 113.84, 'end_time': 132.48}\n",
            "{'chunk_id': 10, 'chunk_length': 19.599999999999994, 'text': \" a little brief introduction about them. These guys are modest, modest engineers. So they don't  do their own hon. So forgive me for tooting their hon in this case. But let's jump right in\", 'start_time': 127.12, 'end_time': 146.72}\n",
            "{'chunk_id': 11, 'chunk_length': 19.359999999999985, 'text': \" about the money. Funding. 41 million bucks man. That's a lot of money. Every entrepreneur here is  saying what the hell did these guys do? What did the investors see to write such a big check?\", 'start_time': 140.48, 'end_time': 159.83999999999997}\n",
            "{'chunk_id': 12, 'chunk_length': 18.319999999999993, 'text': \" No, I think it's a trend of what's going on in India. I think that for the very first time,  I think the investors have looked at, let's try and build something deep-tech out of the country.\", 'start_time': 152.56, 'end_time': 170.88}\n",
            "{'chunk_id': 13, 'chunk_length': 22.160000000000025, 'text': \" And let's try to figure out how to build something as a foundational technology out of the country.  And that's really what's really exciting. And I think that about, as Balav was mentioning for\", 'start_time': 166.32, 'end_time': 188.48000000000002}\n",
            "{'chunk_id': 14, 'chunk_length': 20.560000000000002, 'text': \" the past 15 years, I've been working in both digital public infrastructure and kind of  non-profit kind of things. But when this whole thing of generative AI came about,\", 'start_time': 180.32, 'end_time': 200.88}\n",
            "{'chunk_id': 15, 'chunk_length': 19.680000000000007, 'text': ' we said, okay, how can I actually make a difference in this space? And I said, maybe this is the  opportunity to actually come out and really build something. And the only way that we realize that', 'start_time': 195.2, 'end_time': 214.88}\n",
            "{'chunk_id': 16, 'chunk_length': 16.640000000000015, 'text': \" you can do it is actually in the private sector. And I think that's, and then when we went out  there and we said, we want to build something, which is a continuation. And fundamentally,\", 'start_time': 207.92, 'end_time': 224.56}\n",
            "{'chunk_id': 17, 'chunk_length': 17.359999999999985, 'text': \" the question is the reason of what we want to do at Server May I is we want to basically make  generative AI available and accessible to the people in the country. And that's the intent.\", 'start_time': 219.12, 'end_time': 236.48}\n",
            "{'chunk_id': 18, 'chunk_length': 17.440000000000026, 'text': \" And when we said that we want to do this, there was a resonance in the investment community.  And I think it's a responsibility to really to show that something like this can be built out of\", 'start_time': 231.35999999999999, 'end_time': 248.8}\n",
            "{'chunk_id': 19, 'chunk_length': 17.440000000000026, 'text': \" India. So we see that as as as as confidence and a responsibility. And I also hope it's a trend  that that you know that there are many more people like like us who are backed. Because if you look\", 'start_time': 242.4, 'end_time': 259.84000000000003}\n",
            "{'chunk_id': 20, 'chunk_length': 15.600000000000023, 'text': \" at it, maybe it's a large number in a you know in the Indian context, but in the global context,  I think there is just there should be many, many more entrepreneurs who are back to do things in\", 'start_time': 253.44, 'end_time': 269.04}\n",
            "{'chunk_id': 21, 'chunk_length': 16.480000000000018, 'text': \" India. I'm going to come back to the many more entrepreneurs. I'm obviously going to ask you about  Bhavish's Krutram. So we're going to come back to that question. But again, 41 million dollars.\", 'start_time': 264.4, 'end_time': 280.88}\n",
            "{'chunk_id': 22, 'chunk_length': 15.680000000000007, 'text': \" I mean, all of what you said, you know, two million dollars, you know, that's a good no-one of money  for a startup which you know, which has not yet built anything. What are you going to do with all this money?\", 'start_time': 276.40000000000003, 'end_time': 292.08000000000004}\n",
            "{'chunk_id': 23, 'chunk_length': 20.639999999999986, 'text': \" I can call the problem. I can have a perfect solution for the problem.  I think in the last week I've got lots of calls, lots of people telling me how I can do.  No, but I know you first. I'll be landed in the country the same day. I'm in the front of the queue.\", 'start_time': 288.88, 'end_time': 309.52}\n",
            "{'chunk_id': 24, 'chunk_length': 17.120000000000005, 'text': ' No, but but but honestly, I think the key thing in this is is to putting together an amazing team.  And we actually have an amazing team, but we believe that it is talent that will drive this kind of', 'start_time': 302.88, 'end_time': 320.0}\n",
            "{'chunk_id': 25, 'chunk_length': 19.439999999999998, 'text': ' thing. And so it is it is to get get key talent. And of course, the other thing is compute. This is  extremely expensive compute wise to actually do these kinds of things. And I think that those are the', 'start_time': 314.88, 'end_time': 334.32}\n",
            "{'chunk_id': 26, 'chunk_length': 17.519999999999982, 'text': \" two primary things that that you know, we'd use this for. Okay. I'm computing in my own head as an  entrepreneur talent. Okay, you have like 2015 people. How much are you paying these guys? But okay,\", 'start_time': 326.88, 'end_time': 344.4}\n",
            "{'chunk_id': 27, 'chunk_length': 15.839999999999975, 'text': \" well, you won't touch on that. But let's talk about what you guys actually built. What is what is  open Hathi? Well, how would you explain open Hathi to many people here who might not have no\", 'start_time': 339.12, 'end_time': 354.96}\n",
            "{'chunk_id': 28, 'chunk_length': 19.519999999999982, 'text': ' about it? So I think open Hathi is so, so first of all, right? We come from I personally come from  the open source ecosystem and we we and also from the DPI ecosystem. So we believe that for this', 'start_time': 348.32, 'end_time': 367.84}\n",
            "{'chunk_id': 29, 'chunk_length': 16.24000000000001, 'text': ' to work, we need the ecosystem to be successful. And as a result of that, one of the first things we  did was, hey, there are these open source large language models that exist, right? I mean,', 'start_time': 361.91999999999996, 'end_time': 378.15999999999997}\n",
            "{'chunk_id': 30, 'chunk_length': 17.52000000000004, 'text': ' everybody knows about the Lama family from Meta. They also know there are others like Mr.  Al, there are a bunch of open source, you know, large language models. And then we said,', 'start_time': 373.12, 'end_time': 390.64000000000004}\n",
            "{'chunk_id': 31, 'chunk_length': 16.80000000000001, 'text': ' is there any way that take an existing open source model and teach it language skills, right?  I mean, you know, language and that is really the, you know, what we decide, what we said that', 'start_time': 384.56, 'end_time': 401.36}\n",
            "{'chunk_id': 32, 'chunk_length': 19.119999999999948, 'text': ' can we do something like that? And is this a, you know, relatively frugal way of actually,  you know, making models, you know, work in diverse languages because the truth is still today.', 'start_time': 395.44000000000005, 'end_time': 414.56}\n",
            "{'chunk_id': 33, 'chunk_length': 16.159999999999968, 'text': ' I mean, if you look at the amount of data and knowledge, it is still English dominates these  things. And I think that how do you actually take and make it understand Indian language,', 'start_time': 409.28000000000003, 'end_time': 425.44}\n",
            "{'chunk_id': 34, 'chunk_length': 16.879999999999995, 'text': \" understand Indian context and all of those things in actually a, in an efficient way? And therefore,  this was an attempt through that. And it's an open hearty is, you know, is currently based on\", 'start_time': 419.76, 'end_time': 436.64}\n",
            "{'chunk_id': 35, 'chunk_length': 16.160000000000025, 'text': \" the Lama 7 billion model, but we'll be releasing many more models in different languages,  different sizes and things like that as part of this, as part of this series. And of course,\", 'start_time': 431.84, 'end_time': 448.0}\n",
            "{'chunk_id': 36, 'chunk_length': 19.599999999999966, 'text': \" you know, we will be building further models on those and doing other things to actually,  and we'll also have end points that people can use. So therefore, it's not, it's definitely,  you know, something that people can can can use to things. And the, that's, that's the essence of,\", 'start_time': 443.12, 'end_time': 462.71999999999997}\n",
            "{'chunk_id': 37, 'chunk_length': 18.079999999999984, 'text': ' of what, what this open hearty is. So what does it mean to people in the audience here who are either  doing their own startups or a business or, or, or developers? How should they look at Open AI?', 'start_time': 458.08, 'end_time': 476.15999999999997}\n",
            "{'chunk_id': 38, 'chunk_length': 19.680000000000007, 'text': \" Oh, sorry, sorry, not open. No, yeah, no, no, I think, I think the way you look at it is that we,  one of the important things that we are doing is we're not just building models. We are also going\", 'start_time': 469.44, 'end_time': 489.12}\n",
            "{'chunk_id': 39, 'chunk_length': 15.840000000000032, 'text': ' to be building a platform, a platform for developers where you can actually use a combination of  various different kinds of models, some which are from us, some which are open source, some', 'start_time': 482.0, 'end_time': 497.84000000000003}\n",
            "{'chunk_id': 40, 'chunk_length': 16.47999999999996, 'text': ' which may not be open source, and actually to actually pull together and figure out how to  deploy, you know, a generative AI applications at scale and understand and evaluate their performance', 'start_time': 493.28000000000003, 'end_time': 509.76}\n",
            "{'chunk_id': 41, 'chunk_length': 20.159999999999968, 'text': \" in an efficient manner. And that's something that we are planning to do at this, and, and, and this  platform is, you know, in the next couple of months, we'll be coming out there, it will be available  to developers. But of course, those who want to start with the open source things and, and hack,\", 'start_time': 505.36, 'end_time': 525.52}\n",
            "{'chunk_id': 42, 'chunk_length': 18.959999999999923, 'text': \" but that of course, please go ahead and do that as well. That's, that's phenomenal. But how does  it compare to Open AI itself or Google? See, at least the things that we are doing now, right? I mean,\", 'start_time': 519.6800000000001, 'end_time': 538.64}\n",
            "{'chunk_id': 43, 'chunk_length': 17.279999999999973, 'text': ' one of the things that when we thought about a building server, we said we want to build a  full stack generative AI company and, and different people have, and, and our understanding of', 'start_time': 533.28, 'end_time': 550.56}\n",
            "{'chunk_id': 44, 'chunk_length': 18.879999999999995, 'text': ' full stack is that we need to know how to train models from scratch. We need to know how to kind of  figure out how to deploy models to solve real world use cases. And we need to play in the ecosystem', 'start_time': 544.0799999999999, 'end_time': 562.9599999999999}\n",
            "{'chunk_id': 45, 'chunk_length': 16.960000000000036, 'text': ' to make sure that we can actually deploy population scale applications, right? So we were  thinking about all of these things. But still the models we were talking about are, you know,', 'start_time': 556.48, 'end_time': 573.44}\n",
            "{'chunk_id': 46, 'chunk_length': 15.680000000000064, 'text': \" fairly small models. They are fairly small models, right? The seven to maybe up to 70 billion kind  of range we're talking about. While these models like Open AI and, and, and Google are obviously\", 'start_time': 568.0, 'end_time': 583.6800000000001}\n",
            "{'chunk_id': 47, 'chunk_length': 17.11999999999989, 'text': ' much bigger models, right? But we want to, but, but, you know, we want to understand the techniques and  be able to build that muscle to do all of these things to, to, to make it, to make it available to', 'start_time': 578.48, 'end_time': 595.5999999999999}\n",
            "{'chunk_id': 48, 'chunk_length': 20.32000000000005, 'text': ' people. Now those models are, I mean, as I said, you know, I think that there is space for all of  those things. And I think as even Sridhar was talking about earlier in the day, we believe that', 'start_time': 589.68, 'end_time': 610.0}\n",
            "{'chunk_id': 49, 'chunk_length': 17.519999999999982, 'text': ' these smaller models can do very, I mean, many, many kind of domain specific tasks extremely well,  probably even better than the, than the larger models. And that is really one of the key areas.', 'start_time': 601.92, 'end_time': 619.4399999999999}\n",
            "{'chunk_id': 50, 'chunk_length': 16.799999999999955, 'text': \" And so the, for the value of these kinds of things, right? We are not aiming in these  most set of models to, to build any AGI, right? That's not our goal here. Our goal is to make things\", 'start_time': 614.96, 'end_time': 631.76}\n",
            "{'chunk_id': 51, 'chunk_length': 18.399999999999977, 'text': ' that work extremely well for domain specific use cases or, or increase accessibility through language  and, and all of those kinds of things. And obviously all of this unique to India. But what is unique', 'start_time': 624.88, 'end_time': 643.28}\n",
            "{'chunk_id': 52, 'chunk_length': 17.360000000000014, 'text': ' about India? I mean, like, what is, is anything special in our ecosystem that, that makes small models  focused with Indian languages better for, more suited for our problems.', 'start_time': 635.76, 'end_time': 653.12}\n",
            "{'chunk_id': 53, 'chunk_length': 18.24000000000001, 'text': ' So I think that, I mean, there are quite a few things that are unique about India, right?  The first thing is, I think, that we are a voice first nation. So therefore, I think voice', 'start_time': 647.92, 'end_time': 666.16}\n",
            "{'chunk_id': 54, 'chunk_length': 17.279999999999973, 'text': \" has to be the core to doing things. The other thing, of course, India is extremely,  it's a cost-conscious country from, from, from a cost perspective. Now there, I would say that\", 'start_time': 659.12, 'end_time': 676.4}\n",
            "{'chunk_id': 55, 'chunk_length': 19.440000000000055, 'text': ' there are lots of interesting use cases where you can use Open AI and the cost structure works  that when, when, when, when, when depending on your application. But when you want to scale things  to a massive level and make it work, then, then you have to figure out how small models work. So', 'start_time': 670.8, 'end_time': 690.24}\n",
            "{'chunk_id': 56, 'chunk_length': 18.08000000000004, 'text': \" that's something that is also specific to India. The third thing which is specific to India is  really the success that India has had in building all this digital public infrastructure. When you\", 'start_time': 685.1999999999999, 'end_time': 703.28}\n",
            "{'chunk_id': 57, 'chunk_length': 16.960000000000036, 'text': \" add the AI layer on top of it, then you can actually get dramatic, you know, dramatic, I think,  multiplicative combinatorial effects based on doing things like that. That's a phenomenal point.\", 'start_time': 696.4, 'end_time': 713.36}\n",
            "{'chunk_id': 58, 'chunk_length': 17.120000000000005, 'text': \" Like, you know, it's like DPI to the power of AI almost in some ways. And as a part of Adar,  a building, Adar, no better person than you. So in summary, what I'm hearing is small models,\", 'start_time': 708.8, 'end_time': 725.92}\n",
            "{'chunk_id': 59, 'chunk_length': 15.600000000000023, 'text': \" specialized with trained with Indic specific language data, suited for Indian problems,  at a compelling cost point, will be suited for us. We're not solving some world autonomous\", 'start_time': 720.56, 'end_time': 736.16}\n",
            "{'chunk_id': 60, 'chunk_length': 15.600000000000023, 'text': \" vehicles or some complex problem. We're solving some basic problems specifically focused on  voice with multiple languages. That is what you see as a future. Am I paraphrasing this correctly?\", 'start_time': 731.04, 'end_time': 746.64}\n",
            "{'chunk_id': 61, 'chunk_length': 16.24000000000001, 'text': ' No, yeah. So I think that certainly, I mean, voice and Indian languages are an important part  of our strategy. But we will be building, you know, custom models to solve various other kinds', 'start_time': 741.28, 'end_time': 757.52}\n",
            "{'chunk_id': 62, 'chunk_length': 15.279999999999973, 'text': \" of problems as well, right? Let's not just limited to, I think, in different domains, working  in different domains, making building things based on unique data that enterprises have and things\", 'start_time': 751.68, 'end_time': 766.9599999999999}\n",
            "{'chunk_id': 63, 'chunk_length': 16.08000000000004, 'text': \" like that. So that's something that we'll also look at. Fair enough. So coming back to the  elephant in the room, no fun intended with OpenHathe, what about Bhabhi Shakirwal and Krutrim?\", 'start_time': 763.04, 'end_time': 779.12}\n",
            "{'chunk_id': 64, 'chunk_length': 17.519999999999982, 'text': \" What does your take on that? I think it's great. I think it's wonderful, right? I mean, the fact that  the technology AI is so important that we need multiple people working on it. The fact that\", 'start_time': 774.4, 'end_time': 791.92}\n",
            "{'chunk_id': 65, 'chunk_length': 18.480000000000018, 'text': ' there are other people thinking is actually validates that this is an important problem to be solved.  And I think that we need everybody to come together and do that. So I really welcome that. I think', 'start_time': 786.24, 'end_time': 804.72}\n",
            "{'chunk_id': 66, 'chunk_length': 16.720000000000027, 'text': \" it's great. And I think that there'll be different people who will have different takes as to how  to solve this kind of problem. And hopefully as a result of that, the entire ecosystem benefits.\", 'start_time': 799.2, 'end_time': 815.9200000000001}\n",
            "{'chunk_id': 67, 'chunk_length': 18.639999999999986, 'text': \" I have one more question and then I want to talk about some of the predictions that you've boldly  made. So Vivek, I usually ask people about what do you think the future will be and everybody  usually hedges. I ask Vivek, what do you think is going to happen by December 2024? What do you\", 'start_time': 811.6, 'end_time': 830.24}\n",
            "{'chunk_id': 68, 'chunk_length': 19.279999999999973, 'text': ' think sitting in this room one year later, we can expect? And you made three bold predictions.  So I want to talk about that before that I have one last question. What are the top three  applications that you think are relevant for India? You would see the talk about medical.', 'start_time': 825.12, 'end_time': 844.4}\n",
            "{'chunk_id': 69, 'chunk_length': 20.160000000000082, 'text': ' Well, you know, any quick summary, what do you think your top three apps are for India for AI?  So I mean, I think that as you said, things like education and medical are clearly areas where', 'start_time': 839.52, 'end_time': 859.6800000000001}\n",
            "{'chunk_id': 70, 'chunk_length': 17.360000000000014, 'text': \" I think that things can be leveraged. The whole idea of all these kind of the DPI aspect of it  is another major application where things can happen. And here I'm talking about country-specific.\", 'start_time': 853.04, 'end_time': 870.4}\n",
            "{'chunk_id': 71, 'chunk_length': 18.800000000000068, 'text': \" And I think the whole idea which we've also talked about was the concept of software. And I think  that clearly we have a very large software industry and how to reimagine those things in this\", 'start_time': 864.2399999999999, 'end_time': 883.04}\n",
            "{'chunk_id': 72, 'chunk_length': 15.360000000000127, 'text': \" context is also something that's going to be big. Fair enough. Are you guys ready for Vivek Aguens' bold  predictions? Yes? No, I'm not hearing any. This is like a big deal. He's like one of the smartest\", 'start_time': 876.4799999999999, 'end_time': 891.84}\n",
            "{'chunk_id': 73, 'chunk_length': 20.32000000000005, 'text': \" guys that I know. He wants to make three predictions. You don't want to hear it.  All right. So I asked him, what do you think, you know, year later, what do you think we can expect?  And he came up with three things and usually people give very blind answers when you ask\", 'start_time': 888.96, 'end_time': 909.2800000000001}\n",
            "{'chunk_id': 74, 'chunk_length': 16.0, 'text': \" questions like this because they don't want to be caught wrong. Not Vivek. Vivek is bold. So he basically  said three things and I'm going to list out the three things and then he's asking about it.\", 'start_time': 903.6800000000001, 'end_time': 919.6800000000001}\n",
            "{'chunk_id': 75, 'chunk_length': 17.360000000000014, 'text': \" So number one, he says, I will prefer to talk to an automated customer service than a real person  because they'll give me a better answer. So that is Vivek Aguens' prediction. Number one.\", 'start_time': 913.5200000000001, 'end_time': 930.8800000000001}\n",
            "{'chunk_id': 76, 'chunk_length': 18.480000000000018, 'text': \" So number two is that when everybody is talking about a GPU shortage, Vivek predicts that there'll  be a GPU glutton India. He thinks there'll be too much GPU. So if you want a short and media stock,\", 'start_time': 924.5600000000001, 'end_time': 943.0400000000001}\n",
            "{'chunk_id': 77, 'chunk_length': 19.75999999999999, 'text': ' this is a good time. And number three, which was extremely unexpected, he said some companies  will suddenly die. Okay. So Vivek, these are not what I expected. So you want to quickly talk about', 'start_time': 936.96, 'end_time': 956.72}\n",
            "{'chunk_id': 78, 'chunk_length': 18.559999999999945, 'text': \" each of them. Why you just came up with these and then we'll throw the open audience questions.  So I don't think I quite said it the way that that ballad is marketing ideas. But it's interesting.\", 'start_time': 952.24, 'end_time': 970.8}\n",
            "{'chunk_id': 79, 'chunk_length': 15.440000000000055, 'text': \" But I think the first thing that we said is I think that and I don't think that this is I think\", 'start_time': 963.92, 'end_time': 979.36}\n",
            "{'chunk_id': 80, 'chunk_length': 20.399999999999977, 'text': ' there will come a time when in areas of customer service, etc. When you want to do something  very specific, today when you call when you call some kind of a bot, you actually end up,', 'start_time': 970.8, 'end_time': 991.1999999999999}\n",
            "{'chunk_id': 81, 'chunk_length': 17.360000000000127, 'text': \" you mostly try to disconnect the call or you're extremely upset that you're talking to a bot.  But I think that there will come a time and I'm predicting it sooner than later that you will\", 'start_time': 984.9599999999999, 'end_time': 1002.32}\n",
            "{'chunk_id': 82, 'chunk_length': 15.839999999999918, 'text': \" actually get better responses from the bot than what the human representative, that at least the  average human representative that you could talk to could give. And I think that that's just a\", 'start_time': 996.4000000000001, 'end_time': 1012.24}\n",
            "{'chunk_id': 83, 'chunk_length': 19.759999999999877, 'text': \" I just said that that there will come a time where you know it's not a human you're talking to,  but it's probably more likely to solve your intent than the human person. That's just something that\", 'start_time': 1007.5200000000001, 'end_time': 1027.28}\n",
            "{'chunk_id': 84, 'chunk_length': 20.399999999999977, 'text': \" that I think that could happen. Definitely controversial, but we'll let it go. What about the GPU  glut? No, no, I don't think that. So I think that the fact that there is a tremendous shortage right\", 'start_time': 1019.92, 'end_time': 1040.32}\n",
            "{'chunk_id': 85, 'chunk_length': 16.800000000000182, 'text': ' now, I think that shortage will ease because that is how the cycles of things go, right? When  when you when you know I think the fact that there was such a severe shortage last year,', 'start_time': 1034.56, 'end_time': 1051.3600000000001}\n",
            "{'chunk_id': 86, 'chunk_length': 18.080000000000155, 'text': ' you know, basically caused a number of different players to ramp up in various kinds of forms.  And I think that that that will always go in a cycle. But you may we may find out that there are', 'start_time': 1045.04, 'end_time': 1063.1200000000001}\n",
            "{'chunk_id': 87, 'chunk_length': 18.799999999999955, 'text': \" many, many more interesting problems that people will be able to solve. I'm I still remember,  you know, we were at at a at a at a at a genie event in in Bangalore and we were talking to\", 'start_time': 1056.72, 'end_time': 1075.52}\n",
            "{'chunk_id': 88, 'chunk_length': 18.960000000000036, 'text': ' people and we said, you know, how many people have access to, you know, four a hundred. This was  the question that I asked and nobody in the room and these are all extremely enthusiastic genie  people and nobody had access. And I think that thing is going to change. You will be able to get', 'start_time': 1070.16, 'end_time': 1089.1200000000001}\n",
            "{'chunk_id': 89, 'chunk_length': 16.24000000000001, 'text': ' these kinds of things and people who want to hack and do things will have access to these things  at in without, you know, having to write a, you know, a major check check. So the way is also a', 'start_time': 1084.48, 'end_time': 1100.72}\n",
            "{'chunk_id': 90, 'chunk_length': 18.480000000000018, 'text': \" semi-conductor guy before he went into other. So I would take his predictions very seriously. So I  don't know what I want to sell my immediate stock. I would not do that. But that's not what I said.\", 'start_time': 1095.76, 'end_time': 1114.24}\n",
            "{'chunk_id': 91, 'chunk_length': 19.840000000000146, 'text': ' I want to blame you for this. But the third one is pretty strange. You know, companies are born  companies die, but you said some companies will suddenly die. What does that mean? No, I think', 'start_time': 1107.2, 'end_time': 1127.0400000000002}\n",
            "{'chunk_id': 92, 'chunk_length': 19.519999999999982, 'text': ' see, I think the interesting thing is, and I think that it comes back to the fundamental nature of AI.  AI is a tool, right? And you have to use that. And you have to use that within your business process,', 'start_time': 1120.48, 'end_time': 1140.0}\n",
            "{'chunk_id': 93, 'chunk_length': 18.079999999999927, 'text': \" right? And how AI is being used, and so what's going to happen is that, I mean, I think this is true  with, you know, when someone said in terms of, you know, people, they said that the people who\", 'start_time': 1134.16, 'end_time': 1152.24}\n",
            "{'chunk_id': 94, 'chunk_length': 17.519999999999982, 'text': \" leverage AI will be more effective than those who don't leverage AI. And that will  still for organizations also. Organizations that leverage AI in, fundamentally in their core\", 'start_time': 1146.16, 'end_time': 1163.68}\n",
            "{'chunk_id': 95, 'chunk_length': 18.24000000000001, 'text': \" business processes, will be more effective than those who don't, right? And I think that's the  thing. And you won't know the difference until one day it becomes too obvious, and it will be too\", 'start_time': 1158.64, 'end_time': 1176.88}\n",
            "{'chunk_id': 96, 'chunk_length': 17.439999999999827, 'text': \" late. And I think that's the reason why everybody needs to think about what it means for your business,  because you will, everything will be fine. Everything will be fine. And one day somebody in your,\", 'start_time': 1170.3200000000002, 'end_time': 1187.76}\n",
            "{'chunk_id': 97, 'chunk_length': 17.200000000000045, 'text': \" either, either, either your competitor, your space or somebody brand new coming into your space  will be reimagining your business process completely. And at that stage, you will find that it's,\", 'start_time': 1183.28, 'end_time': 1200.48}\n",
            "{'chunk_id': 98, 'chunk_length': 17.3599999999999, 'text': \" you know, it's a very big, very tall mountain to climb. And that's why I think it's important  for both people and entities to think about how they will, you know, they will upgrade themselves,\", 'start_time': 1193.44, 'end_time': 1210.8}\n",
            "{'chunk_id': 99, 'chunk_length': 16.799999999999955, 'text': \" or they will modify their business processes to add to it.  That's a very nuanced answer. And everybody here who's running a business should really think about  it, because life will be the same, and then suddenly, suddenly something will, you know,\", 'start_time': 1207.44, 'end_time': 1224.24}\n",
            "{'chunk_id': 100, 'chunk_length': 15.759999999999991, 'text': \" then it will be a step change. We make a few more questions, but I'm sure the audience has a  lot of questions for you. So how are we doing on time? Okay. So does, okay, a lot of questions,\", 'start_time': 1219.28, 'end_time': 1235.04}\n",
            "{'chunk_id': 101, 'chunk_length': 15.839999999999918, 'text': \" so I'd love to, is there a mic that we can pass along?\", 'start_time': 1231.76, 'end_time': 1247.6}\n",
            "{'chunk_id': 102, 'chunk_length': 16.079999999999927, 'text': \" Thank you. My name is Karthik. I work for IT Service Industry. So you're saying that you're\", 'start_time': 1240.48, 'end_time': 1256.56}\n",
            "{'chunk_id': 103, 'chunk_length': 22.079999999999927, 'text': \" working on LLM, sorry, it's a fine tuned LLM on top of Lama. My basic question, fundamental  question is we don't have a foundation model for India. Most of the models are basically using\", 'start_time': 1247.6, 'end_time': 1269.6799999999998}\n",
            "{'chunk_id': 104, 'chunk_length': 17.360000000000127, 'text': ' English or those kind of things. For example, Andrew was talking about the tokenizers and things  like that. So are you working on anything like that? Or you want to use mostly the existing models', 'start_time': 1262.7199999999998, 'end_time': 1280.08}\n",
            "{'chunk_id': 105, 'chunk_length': 16.480000000000018, 'text': ' and run on top of it? Are you going to ask a good question? You ask a cherry question for himself.  No, I think the interesting thing is that if you look at, and then we have actually a blog', 'start_time': 1276.0, 'end_time': 1292.48}\n",
            "{'chunk_id': 106, 'chunk_length': 17.75999999999999, 'text': \" on this on our website, I think one of the things that we've actually built a customised tokenizer,  which actually fundamentally changes the cost of some of these generations in Indian languages.\", 'start_time': 1286.64, 'end_time': 1304.4}\n",
            "{'chunk_id': 107, 'chunk_length': 15.840000000000146, 'text': \" And I think that we're not just fine tuning. We're actually, we are leveraging the existing  retaining, but we are doing what's known as continual free training, which actually,\", 'start_time': 1298.48, 'end_time': 1314.3200000000002}\n",
            "{'chunk_id': 108, 'chunk_length': 18.88000000000011, 'text': ' but having said that, you know, I think that when we have to figure out where is the data to  train an extremely large model from scratch and some of those things are things which will happen', 'start_time': 1308.16, 'end_time': 1327.0400000000002}\n",
            "{'chunk_id': 109, 'chunk_length': 17.519999999999982, 'text': ' over time. But I think that yes, I think that we will be doing various kinds of things. But  the interesting thing is that if I want to change the accessibility problem with an existing', 'start_time': 1319.76, 'end_time': 1337.28}\n",
            "{'chunk_id': 110, 'chunk_length': 17.75999999999999, 'text': \" open source model, how do I do that? And that's the problem that we have that we think we have  solved and is going to be the heart of this open-heart DCT. It's extremely well explained in the\", 'start_time': 1332.24, 'end_time': 1350.0}\n",
            "{'chunk_id': 111, 'chunk_length': 15.039999999999964, 'text': \" blog even I could understand it. Hi, I'm Prishant. I work for a fit tech company. My question is like,\", 'start_time': 1341.76, 'end_time': 1356.8}\n",
            "{'chunk_id': 112, 'chunk_length': 15.919999999999845, 'text': ' unlike China, we never had a consumer facing application coming out from India and in web one,', 'start_time': 1350.0, 'end_time': 1365.9199999999998}\n",
            "{'chunk_id': 113, 'chunk_length': 16.720000000000027, 'text': ' web two, crypto and all, why do you think it will be different this time in like AI? Because will', 'start_time': 1356.8, 'end_time': 1373.52}\n",
            "{'chunk_id': 114, 'chunk_length': 15.839999999999918, 'text': ' BPI and other things will solve the same purpose, but the great five world did in China? Or do you', 'start_time': 1366.96, 'end_time': 1382.8}\n",
            "{'chunk_id': 115, 'chunk_length': 15.039999999999964, 'text': ' think like in, because AI is a strategic sector, no outside country can work in NASA projects,', 'start_time': 1373.52, 'end_time': 1388.56}\n",
            "{'chunk_id': 116, 'chunk_length': 16.960000000000036, 'text': ' maybe the government contract will go to them. What is at least the mode here for an Indian company?', 'start_time': 1382.8, 'end_time': 1399.76}\n",
            "{'chunk_id': 117, 'chunk_length': 15.920000000000073, 'text': \" So I think the question is, I don't know the answer to these questions, right? I mean, I think that\", 'start_time': 1391.12, 'end_time': 1407.04}\n",
            "{'chunk_id': 118, 'chunk_length': 20.799999999999955, 'text': \" it's difficult to predict, but I do believe, and as I'm repeating, that the combinatorial effect of  being using Genai at a large scale in addition, along with the DPI work that we've done in India,\", 'start_time': 1400.48, 'end_time': 1421.28}\n",
            "{'chunk_id': 119, 'chunk_length': 18.720000000000027, 'text': \" will have people. And I think that in the end, the intent is that people need to be able to use it,  and they will vote by things that are useful for them. And if that doesn't happen, you're right.\", 'start_time': 1413.84, 'end_time': 1432.56}\n",
            "{'chunk_id': 120, 'chunk_length': 15.279999999999973, 'text': \" I think that we have to figure out what is the mechanism of delivery of apps, right?  I mean, in Bahu, where do Indians consume content? That's a question.\", 'start_time': 1427.6, 'end_time': 1442.8799999999999}\n",
            "{'chunk_id': 121, 'chunk_length': 16.40000000000009, 'text': \" I'm so sorry, but we are out of time. Vivek will be outside. So he would be able to answer the  question. We have time for one last question. Can I just take one last? Thank you. Thank you. I'm Manish\", 'start_time': 1436.8799999999999, 'end_time': 1453.28}\n",
            "{'chunk_id': 122, 'chunk_length': 15.3599999999999, 'text': \" Kudhari. I'm from ISBR Business School. Good that I got a chance to ask you this question.  During lunchtime, there were a few of our educationists whom we were talking about, and there was one\", 'start_time': 1448.48, 'end_time': 1463.84}\n",
            "{'chunk_id': 123, 'chunk_length': 19.440000000000055, 'text': \" from school and we are from the MBA institutions. We were thinking of these present generations,  how do we get them into what you are doing? There is one thing that they have been regularly,  that the concentrations that they're working on, but artificial intelligence and getting into\", 'start_time': 1458.72, 'end_time': 1478.16}\n",
            "{'chunk_id': 124, 'chunk_length': 16.080000000000155, 'text': ' this, getting them into their academics and making them a part of it is very important,  including the trainers who train them, making them future ready into what you are doing is amazing.', 'start_time': 1473.52, 'end_time': 1489.6000000000001}\n",
            "{'chunk_id': 125, 'chunk_length': 16.40000000000009, 'text': ' The speed that is growing, it is calling for a lot of training that needs to be done.  Can you from your angle through some light on how we could make them future ready?', 'start_time': 1484.16, 'end_time': 1500.5600000000002}\n",
            "{'chunk_id': 126, 'chunk_length': 16.079999999999927, 'text': ' How these people who are management graduates and from schools who are coming out,  how do we get into this part of technology that you spoke about?', 'start_time': 1494.88, 'end_time': 1510.96}\n",
            "{'chunk_id': 127, 'chunk_length': 19.59999999999991, 'text': ' Oh, so this is really a challenge because I think everyone will need to understand at some level  what this technology does. I think that we have to rethink how we get everyone into this.', 'start_time': 1504.72, 'end_time': 1524.32}\n",
            "{'chunk_id': 128, 'chunk_length': 17.440000000000055, 'text': \" And this kind of education has to be at many different levels. There are from a core set of  having people who are extremely good at some, and there you don't need as many, but then there are\", 'start_time': 1518.16, 'end_time': 1535.6000000000001}\n",
            "{'chunk_id': 129, 'chunk_length': 17.680000000000064, 'text': \" basically vast numbers of people who can actually leverage these tools. By the way, the most important  thing about, maybe that's part of what makes an LLM interesting, is that how you use it,\", 'start_time': 1530.8, 'end_time': 1548.48}\n",
            "{'chunk_id': 130, 'chunk_length': 15.759999999999991, 'text': ' your mileage varies by that. And to understand how to actually leverage this in an interesting way,', 'start_time': 1541.52, 'end_time': 1557.28}\n",
            "{'chunk_id': 131, 'chunk_length': 18.480000000000018, 'text': ' something that we have to widely teach many, many people. And because asking the things in the right  way and having the right kind of applications will make a huge difference to how people can', 'start_time': 1548.48, 'end_time': 1566.96}\n",
            "{'chunk_id': 132, 'chunk_length': 12.960000000000036, 'text': \" have these tools. Awesome. Thank you. Thank you very much Vivek. Very good luck to Sarvam and  good luck to India. I think it's going to be a lot of regular missionaries. Thanks, Palai.  Thank you, Mr. Raghavan.\", 'start_time': 1562.0, 'end_time': 1574.96}\n"
          ]
        }
      ]
    },
    {
      "cell_type": "code",
      "source": [
        "!pip install gradio\n",
        "\n",
        "import gradio as gr\n",
        "\n",
        "def process_video(url):\n",
        "    video_path = download_video(url)\n",
        "    audio_path = extract_audio(video_path)\n",
        "    segments = transcribe_audio(audio_path)\n",
        "    chunks = semantic_chunking(segments)\n",
        "    return chunks\n",
        "\n",
        "iface = gr.Interface(\n",
        "    fn=process_video,\n",
        "    inputs=\"text\",\n",
        "    outputs=\"json\",\n",
        "    title=\"YouTube Video Semantic Chunker\",\n",
        "    description=\"Input a YouTube video URL to get semantically chunked audio-text pairs.\"\n",
        ")\n",
        "\n",
        "iface.launch()\n"
      ],
      "metadata": {
        "colab": {
          "base_uri": "https://localhost:8080/",
          "height": 1000
        },
        "id": "Ng_GhZj-2AT7",
        "outputId": "ff99204d-7368-4d65-9c1d-7b5000782e99"
      },
      "execution_count": 5,
      "outputs": [
        {
          "output_type": "stream",
          "name": "stdout",
          "text": [
            "Collecting gradio\n",
            "  Downloading gradio-4.36.1-py3-none-any.whl (12.3 MB)\n",
            "\u001b[2K     \u001b[90m━━━━━━━━━━━━━━━━━━━━━━━━━━━━━━━━━━━━━━━━\u001b[0m \u001b[32m12.3/12.3 MB\u001b[0m \u001b[31m36.6 MB/s\u001b[0m eta \u001b[36m0:00:00\u001b[0m\n",
            "\u001b[?25hCollecting aiofiles<24.0,>=22.0 (from gradio)\n",
            "  Downloading aiofiles-23.2.1-py3-none-any.whl (15 kB)\n",
            "Requirement already satisfied: altair<6.0,>=4.2.0 in /usr/local/lib/python3.10/dist-packages (from gradio) (4.2.2)\n",
            "Collecting fastapi (from gradio)\n",
            "  Downloading fastapi-0.111.0-py3-none-any.whl (91 kB)\n",
            "\u001b[2K     \u001b[90m━━━━━━━━━━━━━━━━━━━━━━━━━━━━━━━━━━━━━━━━\u001b[0m \u001b[32m92.0/92.0 kB\u001b[0m \u001b[31m13.2 MB/s\u001b[0m eta \u001b[36m0:00:00\u001b[0m\n",
            "\u001b[?25hCollecting ffmpy (from gradio)\n",
            "  Downloading ffmpy-0.3.2.tar.gz (5.5 kB)\n",
            "  Preparing metadata (setup.py) ... \u001b[?25l\u001b[?25hdone\n",
            "Collecting gradio-client==1.0.1 (from gradio)\n",
            "  Downloading gradio_client-1.0.1-py3-none-any.whl (318 kB)\n",
            "\u001b[2K     \u001b[90m━━━━━━━━━━━━━━━━━━━━━━━━━━━━━━━━━━━━━━━━\u001b[0m \u001b[32m318.1/318.1 kB\u001b[0m \u001b[31m41.8 MB/s\u001b[0m eta \u001b[36m0:00:00\u001b[0m\n",
            "\u001b[?25hCollecting httpx>=0.24.1 (from gradio)\n",
            "  Downloading httpx-0.27.0-py3-none-any.whl (75 kB)\n",
            "\u001b[2K     \u001b[90m━━━━━━━━━━━━━━━━━━━━━━━━━━━━━━━━━━━━━━━━\u001b[0m \u001b[32m75.6/75.6 kB\u001b[0m \u001b[31m12.5 MB/s\u001b[0m eta \u001b[36m0:00:00\u001b[0m\n",
            "\u001b[?25hRequirement already satisfied: huggingface-hub>=0.19.3 in /usr/local/lib/python3.10/dist-packages (from gradio) (0.23.3)\n",
            "Requirement already satisfied: importlib-resources<7.0,>=1.3 in /usr/local/lib/python3.10/dist-packages (from gradio) (6.4.0)\n",
            "Requirement already satisfied: jinja2<4.0 in /usr/local/lib/python3.10/dist-packages (from gradio) (3.1.4)\n",
            "Requirement already satisfied: markupsafe~=2.0 in /usr/local/lib/python3.10/dist-packages (from gradio) (2.1.5)\n",
            "Requirement already satisfied: matplotlib~=3.0 in /usr/local/lib/python3.10/dist-packages (from gradio) (3.7.1)\n",
            "Requirement already satisfied: numpy<3.0,>=1.0 in /usr/local/lib/python3.10/dist-packages (from gradio) (1.25.2)\n",
            "Collecting orjson~=3.0 (from gradio)\n",
            "  Downloading orjson-3.10.5-cp310-cp310-manylinux_2_17_x86_64.manylinux2014_x86_64.whl (144 kB)\n",
            "\u001b[2K     \u001b[90m━━━━━━━━━━━━━━━━━━━━━━━━━━━━━━━━━━━━━━━━\u001b[0m \u001b[32m145.0/145.0 kB\u001b[0m \u001b[31m20.5 MB/s\u001b[0m eta \u001b[36m0:00:00\u001b[0m\n",
            "\u001b[?25hRequirement already satisfied: packaging in /usr/local/lib/python3.10/dist-packages (from gradio) (24.1)\n",
            "Requirement already satisfied: pandas<3.0,>=1.0 in /usr/local/lib/python3.10/dist-packages (from gradio) (2.0.3)\n",
            "Requirement already satisfied: pillow<11.0,>=8.0 in /usr/local/lib/python3.10/dist-packages (from gradio) (9.4.0)\n",
            "Requirement already satisfied: pydantic>=2.0 in /usr/local/lib/python3.10/dist-packages (from gradio) (2.7.3)\n",
            "Collecting pydub (from gradio)\n",
            "  Downloading pydub-0.25.1-py2.py3-none-any.whl (32 kB)\n",
            "Collecting python-multipart>=0.0.9 (from gradio)\n",
            "  Downloading python_multipart-0.0.9-py3-none-any.whl (22 kB)\n",
            "Requirement already satisfied: pyyaml<7.0,>=5.0 in /usr/local/lib/python3.10/dist-packages (from gradio) (6.0.1)\n",
            "Collecting ruff>=0.2.2 (from gradio)\n",
            "  Downloading ruff-0.4.9-py3-none-manylinux_2_17_x86_64.manylinux2014_x86_64.whl (8.8 MB)\n",
            "\u001b[2K     \u001b[90m━━━━━━━━━━━━━━━━━━━━━━━━━━━━━━━━━━━━━━━━\u001b[0m \u001b[32m8.8/8.8 MB\u001b[0m \u001b[31m74.2 MB/s\u001b[0m eta \u001b[36m0:00:00\u001b[0m\n",
            "\u001b[?25hCollecting semantic-version~=2.0 (from gradio)\n",
            "  Downloading semantic_version-2.10.0-py2.py3-none-any.whl (15 kB)\n",
            "Collecting tomlkit==0.12.0 (from gradio)\n",
            "  Downloading tomlkit-0.12.0-py3-none-any.whl (37 kB)\n",
            "Requirement already satisfied: typer<1.0,>=0.12 in /usr/local/lib/python3.10/dist-packages (from gradio) (0.12.3)\n",
            "Requirement already satisfied: typing-extensions~=4.0 in /usr/local/lib/python3.10/dist-packages (from gradio) (4.12.2)\n",
            "Requirement already satisfied: urllib3~=2.0 in /usr/local/lib/python3.10/dist-packages (from gradio) (2.0.7)\n",
            "Collecting uvicorn>=0.14.0 (from gradio)\n",
            "  Downloading uvicorn-0.30.1-py3-none-any.whl (62 kB)\n",
            "\u001b[2K     \u001b[90m━━━━━━━━━━━━━━━━━━━━━━━━━━━━━━━━━━━━━━━━\u001b[0m \u001b[32m62.4/62.4 kB\u001b[0m \u001b[31m10.9 MB/s\u001b[0m eta \u001b[36m0:00:00\u001b[0m\n",
            "\u001b[?25hRequirement already satisfied: fsspec in /usr/local/lib/python3.10/dist-packages (from gradio-client==1.0.1->gradio) (2023.6.0)\n",
            "Collecting websockets<12.0,>=10.0 (from gradio-client==1.0.1->gradio)\n",
            "  Downloading websockets-11.0.3-cp310-cp310-manylinux_2_5_x86_64.manylinux1_x86_64.manylinux_2_17_x86_64.manylinux2014_x86_64.whl (129 kB)\n",
            "\u001b[2K     \u001b[90m━━━━━━━━━━━━━━━━━━━━━━━━━━━━━━━━━━━━━━━━\u001b[0m \u001b[32m129.9/129.9 kB\u001b[0m \u001b[31m21.3 MB/s\u001b[0m eta \u001b[36m0:00:00\u001b[0m\n",
            "\u001b[?25hRequirement already satisfied: entrypoints in /usr/local/lib/python3.10/dist-packages (from altair<6.0,>=4.2.0->gradio) (0.4)\n",
            "Requirement already satisfied: jsonschema>=3.0 in /usr/local/lib/python3.10/dist-packages (from altair<6.0,>=4.2.0->gradio) (4.19.2)\n",
            "Requirement already satisfied: toolz in /usr/local/lib/python3.10/dist-packages (from altair<6.0,>=4.2.0->gradio) (0.12.1)\n",
            "Requirement already satisfied: anyio in /usr/local/lib/python3.10/dist-packages (from httpx>=0.24.1->gradio) (3.7.1)\n",
            "Requirement already satisfied: certifi in /usr/local/lib/python3.10/dist-packages (from httpx>=0.24.1->gradio) (2024.6.2)\n",
            "Collecting httpcore==1.* (from httpx>=0.24.1->gradio)\n",
            "  Downloading httpcore-1.0.5-py3-none-any.whl (77 kB)\n",
            "\u001b[2K     \u001b[90m━━━━━━━━━━━━━━━━━━━━━━━━━━━━━━━━━━━━━━━━\u001b[0m \u001b[32m77.9/77.9 kB\u001b[0m \u001b[31m14.2 MB/s\u001b[0m eta \u001b[36m0:00:00\u001b[0m\n",
            "\u001b[?25hRequirement already satisfied: idna in /usr/local/lib/python3.10/dist-packages (from httpx>=0.24.1->gradio) (3.7)\n",
            "Requirement already satisfied: sniffio in /usr/local/lib/python3.10/dist-packages (from httpx>=0.24.1->gradio) (1.3.1)\n",
            "Collecting h11<0.15,>=0.13 (from httpcore==1.*->httpx>=0.24.1->gradio)\n",
            "  Downloading h11-0.14.0-py3-none-any.whl (58 kB)\n",
            "\u001b[2K     \u001b[90m━━━━━━━━━━━━━━━━━━━━━━━━━━━━━━━━━━━━━━━━\u001b[0m \u001b[32m58.3/58.3 kB\u001b[0m \u001b[31m9.7 MB/s\u001b[0m eta \u001b[36m0:00:00\u001b[0m\n",
            "\u001b[?25hRequirement already satisfied: filelock in /usr/local/lib/python3.10/dist-packages (from huggingface-hub>=0.19.3->gradio) (3.14.0)\n",
            "Requirement already satisfied: requests in /usr/local/lib/python3.10/dist-packages (from huggingface-hub>=0.19.3->gradio) (2.31.0)\n",
            "Requirement already satisfied: tqdm>=4.42.1 in /usr/local/lib/python3.10/dist-packages (from huggingface-hub>=0.19.3->gradio) (4.66.4)\n",
            "Requirement already satisfied: contourpy>=1.0.1 in /usr/local/lib/python3.10/dist-packages (from matplotlib~=3.0->gradio) (1.2.1)\n",
            "Requirement already satisfied: cycler>=0.10 in /usr/local/lib/python3.10/dist-packages (from matplotlib~=3.0->gradio) (0.12.1)\n",
            "Requirement already satisfied: fonttools>=4.22.0 in /usr/local/lib/python3.10/dist-packages (from matplotlib~=3.0->gradio) (4.53.0)\n",
            "Requirement already satisfied: kiwisolver>=1.0.1 in /usr/local/lib/python3.10/dist-packages (from matplotlib~=3.0->gradio) (1.4.5)\n",
            "Requirement already satisfied: pyparsing>=2.3.1 in /usr/local/lib/python3.10/dist-packages (from matplotlib~=3.0->gradio) (3.1.2)\n",
            "Requirement already satisfied: python-dateutil>=2.7 in /usr/local/lib/python3.10/dist-packages (from matplotlib~=3.0->gradio) (2.8.2)\n",
            "Requirement already satisfied: pytz>=2020.1 in /usr/local/lib/python3.10/dist-packages (from pandas<3.0,>=1.0->gradio) (2023.4)\n",
            "Requirement already satisfied: tzdata>=2022.1 in /usr/local/lib/python3.10/dist-packages (from pandas<3.0,>=1.0->gradio) (2024.1)\n",
            "Requirement already satisfied: annotated-types>=0.4.0 in /usr/local/lib/python3.10/dist-packages (from pydantic>=2.0->gradio) (0.7.0)\n",
            "Requirement already satisfied: pydantic-core==2.18.4 in /usr/local/lib/python3.10/dist-packages (from pydantic>=2.0->gradio) (2.18.4)\n",
            "Requirement already satisfied: click>=8.0.0 in /usr/local/lib/python3.10/dist-packages (from typer<1.0,>=0.12->gradio) (8.1.7)\n",
            "Requirement already satisfied: shellingham>=1.3.0 in /usr/local/lib/python3.10/dist-packages (from typer<1.0,>=0.12->gradio) (1.5.4)\n",
            "Requirement already satisfied: rich>=10.11.0 in /usr/local/lib/python3.10/dist-packages (from typer<1.0,>=0.12->gradio) (13.7.1)\n",
            "Collecting starlette<0.38.0,>=0.37.2 (from fastapi->gradio)\n",
            "  Downloading starlette-0.37.2-py3-none-any.whl (71 kB)\n",
            "\u001b[2K     \u001b[90m━━━━━━━━━━━━━━━━━━━━━━━━━━━━━━━━━━━━━━━━\u001b[0m \u001b[32m71.9/71.9 kB\u001b[0m \u001b[31m12.9 MB/s\u001b[0m eta \u001b[36m0:00:00\u001b[0m\n",
            "\u001b[?25hCollecting fastapi-cli>=0.0.2 (from fastapi->gradio)\n",
            "  Downloading fastapi_cli-0.0.4-py3-none-any.whl (9.5 kB)\n",
            "Collecting ujson!=4.0.2,!=4.1.0,!=4.2.0,!=4.3.0,!=5.0.0,!=5.1.0,>=4.0.1 (from fastapi->gradio)\n",
            "  Downloading ujson-5.10.0-cp310-cp310-manylinux_2_17_x86_64.manylinux2014_x86_64.whl (53 kB)\n",
            "\u001b[2K     \u001b[90m━━━━━━━━━━━━━━━━━━━━━━━━━━━━━━━━━━━━━━━━\u001b[0m \u001b[32m53.6/53.6 kB\u001b[0m \u001b[31m8.3 MB/s\u001b[0m eta \u001b[36m0:00:00\u001b[0m\n",
            "\u001b[?25hCollecting email_validator>=2.0.0 (from fastapi->gradio)\n",
            "  Downloading email_validator-2.1.2-py3-none-any.whl (30 kB)\n",
            "Collecting dnspython>=2.0.0 (from email_validator>=2.0.0->fastapi->gradio)\n",
            "  Downloading dnspython-2.6.1-py3-none-any.whl (307 kB)\n",
            "\u001b[2K     \u001b[90m━━━━━━━━━━━━━━━━━━━━━━━━━━━━━━━━━━━━━━━━\u001b[0m \u001b[32m307.7/307.7 kB\u001b[0m \u001b[31m41.8 MB/s\u001b[0m eta \u001b[36m0:00:00\u001b[0m\n",
            "\u001b[?25hRequirement already satisfied: attrs>=22.2.0 in /usr/local/lib/python3.10/dist-packages (from jsonschema>=3.0->altair<6.0,>=4.2.0->gradio) (23.2.0)\n",
            "Requirement already satisfied: jsonschema-specifications>=2023.03.6 in /usr/local/lib/python3.10/dist-packages (from jsonschema>=3.0->altair<6.0,>=4.2.0->gradio) (2023.12.1)\n",
            "Requirement already satisfied: referencing>=0.28.4 in /usr/local/lib/python3.10/dist-packages (from jsonschema>=3.0->altair<6.0,>=4.2.0->gradio) (0.35.1)\n",
            "Requirement already satisfied: rpds-py>=0.7.1 in /usr/local/lib/python3.10/dist-packages (from jsonschema>=3.0->altair<6.0,>=4.2.0->gradio) (0.18.1)\n",
            "Requirement already satisfied: six>=1.5 in /usr/local/lib/python3.10/dist-packages (from python-dateutil>=2.7->matplotlib~=3.0->gradio) (1.16.0)\n",
            "Requirement already satisfied: markdown-it-py>=2.2.0 in /usr/local/lib/python3.10/dist-packages (from rich>=10.11.0->typer<1.0,>=0.12->gradio) (3.0.0)\n",
            "Requirement already satisfied: pygments<3.0.0,>=2.13.0 in /usr/local/lib/python3.10/dist-packages (from rich>=10.11.0->typer<1.0,>=0.12->gradio) (2.16.1)\n",
            "Requirement already satisfied: exceptiongroup in /usr/local/lib/python3.10/dist-packages (from anyio->httpx>=0.24.1->gradio) (1.2.1)\n",
            "Collecting httptools>=0.5.0 (from uvicorn>=0.14.0->gradio)\n",
            "  Downloading httptools-0.6.1-cp310-cp310-manylinux_2_5_x86_64.manylinux1_x86_64.manylinux_2_17_x86_64.manylinux2014_x86_64.whl (341 kB)\n",
            "\u001b[2K     \u001b[90m━━━━━━━━━━━━━━━━━━━━━━━━━━━━━━━━━━━━━━━━\u001b[0m \u001b[32m341.4/341.4 kB\u001b[0m \u001b[31m46.1 MB/s\u001b[0m eta \u001b[36m0:00:00\u001b[0m\n",
            "\u001b[?25hCollecting python-dotenv>=0.13 (from uvicorn>=0.14.0->gradio)\n",
            "  Downloading python_dotenv-1.0.1-py3-none-any.whl (19 kB)\n",
            "Collecting uvloop!=0.15.0,!=0.15.1,>=0.14.0 (from uvicorn>=0.14.0->gradio)\n",
            "  Downloading uvloop-0.19.0-cp310-cp310-manylinux_2_17_x86_64.manylinux2014_x86_64.whl (3.4 MB)\n",
            "\u001b[2K     \u001b[90m━━━━━━━━━━━━━━━━━━━━━━━━━━━━━━━━━━━━━━━━\u001b[0m \u001b[32m3.4/3.4 MB\u001b[0m \u001b[31m108.0 MB/s\u001b[0m eta \u001b[36m0:00:00\u001b[0m\n",
            "\u001b[?25hCollecting watchfiles>=0.13 (from uvicorn>=0.14.0->gradio)\n",
            "  Downloading watchfiles-0.22.0-cp310-cp310-manylinux_2_17_x86_64.manylinux2014_x86_64.whl (1.2 MB)\n",
            "\u001b[2K     \u001b[90m━━━━━━━━━━━━━━━━━━━━━━━━━━━━━━━━━━━━━━━━\u001b[0m \u001b[32m1.2/1.2 MB\u001b[0m \u001b[31m84.4 MB/s\u001b[0m eta \u001b[36m0:00:00\u001b[0m\n",
            "\u001b[?25hRequirement already satisfied: charset-normalizer<4,>=2 in /usr/local/lib/python3.10/dist-packages (from requests->huggingface-hub>=0.19.3->gradio) (3.3.2)\n",
            "Requirement already satisfied: mdurl~=0.1 in /usr/local/lib/python3.10/dist-packages (from markdown-it-py>=2.2.0->rich>=10.11.0->typer<1.0,>=0.12->gradio) (0.1.2)\n",
            "Building wheels for collected packages: ffmpy\n",
            "  Building wheel for ffmpy (setup.py) ... \u001b[?25l\u001b[?25hdone\n",
            "  Created wheel for ffmpy: filename=ffmpy-0.3.2-py3-none-any.whl size=5584 sha256=a34dc46aa557570b790093adb48110fe35902ae2042d4d6e43b8d2b0302bdc33\n",
            "  Stored in directory: /root/.cache/pip/wheels/bd/65/9a/671fc6dcde07d4418df0c592f8df512b26d7a0029c2a23dd81\n",
            "Successfully built ffmpy\n",
            "Installing collected packages: pydub, ffmpy, websockets, uvloop, ujson, tomlkit, semantic-version, ruff, python-multipart, python-dotenv, orjson, httptools, h11, dnspython, aiofiles, watchfiles, uvicorn, starlette, httpcore, email_validator, httpx, gradio-client, fastapi-cli, fastapi, gradio\n",
            "Successfully installed aiofiles-23.2.1 dnspython-2.6.1 email_validator-2.1.2 fastapi-0.111.0 fastapi-cli-0.0.4 ffmpy-0.3.2 gradio-4.36.1 gradio-client-1.0.1 h11-0.14.0 httpcore-1.0.5 httptools-0.6.1 httpx-0.27.0 orjson-3.10.5 pydub-0.25.1 python-dotenv-1.0.1 python-multipart-0.0.9 ruff-0.4.9 semantic-version-2.10.0 starlette-0.37.2 tomlkit-0.12.0 ujson-5.10.0 uvicorn-0.30.1 uvloop-0.19.0 watchfiles-0.22.0 websockets-11.0.3\n",
            "Setting queue=True in a Colab notebook requires sharing enabled. Setting `share=True` (you can turn this off by setting `share=False` in `launch()` explicitly).\n",
            "\n",
            "Colab notebook detected. To show errors in colab notebook, set debug=True in launch()\n",
            "Running on public URL: https://8bf7bd434c751732dd.gradio.live\n",
            "\n",
            "This share link expires in 72 hours. For free permanent hosting and GPU upgrades, run `gradio deploy` from Terminal to deploy to Spaces (https://huggingface.co/spaces)\n"
          ]
        },
        {
          "output_type": "display_data",
          "data": {
            "text/plain": [
              "<IPython.core.display.HTML object>"
            ],
            "text/html": [
              "<div><iframe src=\"https://8bf7bd434c751732dd.gradio.live\" width=\"100%\" height=\"500\" allow=\"autoplay; camera; microphone; clipboard-read; clipboard-write;\" frameborder=\"0\" allowfullscreen></iframe></div>"
            ]
          },
          "metadata": {}
        },
        {
          "output_type": "execute_result",
          "data": {
            "text/plain": []
          },
          "metadata": {},
          "execution_count": 5
        }
      ]
    },
    {
      "cell_type": "markdown",
      "source": [
        "## Task 2: Exploratory Data Analysis of New Testament Audio and Text\n",
        "\n"
      ],
      "metadata": {
        "id": "xBt8cbX_WpQf"
      }
    },
    {
      "cell_type": "code",
      "source": [
        "!pip install requests beautifulsoup4 pydub\n"
      ],
      "metadata": {
        "id": "bq4Q0tszWrAy",
        "colab": {
          "base_uri": "https://localhost:8080/"
        },
        "outputId": "59c52afc-de85-4d1d-c01e-7d68f1753efa"
      },
      "execution_count": 1,
      "outputs": [
        {
          "output_type": "stream",
          "name": "stdout",
          "text": [
            "Requirement already satisfied: requests in /usr/local/lib/python3.10/dist-packages (2.31.0)\n",
            "Requirement already satisfied: beautifulsoup4 in /usr/local/lib/python3.10/dist-packages (4.12.3)\n",
            "Collecting pydub\n",
            "  Downloading pydub-0.25.1-py2.py3-none-any.whl (32 kB)\n",
            "Requirement already satisfied: charset-normalizer<4,>=2 in /usr/local/lib/python3.10/dist-packages (from requests) (3.3.2)\n",
            "Requirement already satisfied: idna<4,>=2.5 in /usr/local/lib/python3.10/dist-packages (from requests) (3.7)\n",
            "Requirement already satisfied: urllib3<3,>=1.21.1 in /usr/local/lib/python3.10/dist-packages (from requests) (2.0.7)\n",
            "Requirement already satisfied: certifi>=2017.4.17 in /usr/local/lib/python3.10/dist-packages (from requests) (2024.6.2)\n",
            "Requirement already satisfied: soupsieve>1.2 in /usr/local/lib/python3.10/dist-packages (from beautifulsoup4) (2.5)\n",
            "Installing collected packages: pydub\n",
            "Successfully installed pydub-0.25.1\n"
          ]
        }
      ]
    },
    {
      "cell_type": "code",
      "source": [
        "!pip install requests beautifulsoup4 pandas\n",
        "\n",
        "import requests\n",
        "from bs4 import BeautifulSoup\n",
        "import os\n",
        "import pandas as pd\n"
      ],
      "metadata": {
        "colab": {
          "base_uri": "https://localhost:8080/"
        },
        "id": "1M6zWAKg4S99",
        "outputId": "95a6f875-485b-4181-f2ff-b1afa8cd8708"
      },
      "execution_count": 5,
      "outputs": [
        {
          "output_type": "stream",
          "name": "stdout",
          "text": [
            "Requirement already satisfied: requests in /usr/local/lib/python3.10/dist-packages (2.31.0)\n",
            "Requirement already satisfied: beautifulsoup4 in /usr/local/lib/python3.10/dist-packages (4.12.3)\n",
            "Requirement already satisfied: pandas in /usr/local/lib/python3.10/dist-packages (2.0.3)\n",
            "Requirement already satisfied: charset-normalizer<4,>=2 in /usr/local/lib/python3.10/dist-packages (from requests) (3.3.2)\n",
            "Requirement already satisfied: idna<4,>=2.5 in /usr/local/lib/python3.10/dist-packages (from requests) (3.7)\n",
            "Requirement already satisfied: urllib3<3,>=1.21.1 in /usr/local/lib/python3.10/dist-packages (from requests) (2.0.7)\n",
            "Requirement already satisfied: certifi>=2017.4.17 in /usr/local/lib/python3.10/dist-packages (from requests) (2024.6.2)\n",
            "Requirement already satisfied: soupsieve>1.2 in /usr/local/lib/python3.10/dist-packages (from beautifulsoup4) (2.5)\n",
            "Requirement already satisfied: python-dateutil>=2.8.2 in /usr/local/lib/python3.10/dist-packages (from pandas) (2.8.2)\n",
            "Requirement already satisfied: pytz>=2020.1 in /usr/local/lib/python3.10/dist-packages (from pandas) (2023.4)\n",
            "Requirement already satisfied: tzdata>=2022.1 in /usr/local/lib/python3.10/dist-packages (from pandas) (2024.1)\n",
            "Requirement already satisfied: numpy>=1.21.0 in /usr/local/lib/python3.10/dist-packages (from pandas) (1.25.2)\n",
            "Requirement already satisfied: six>=1.5 in /usr/local/lib/python3.10/dist-packages (from python-dateutil>=2.8.2->pandas) (1.16.0)\n"
          ]
        }
      ]
    },
    {
      "cell_type": "code",
      "source": [
        "# Define base URL for text\n",
        "text_base_url = 'https://www.biblegateway.com/passage/?search=John+{chapter}&version=NIV'\n",
        "\n",
        "# Function to scrape text\n",
        "def scrape_text(chapter):\n",
        "    url = text_base_url.format(chapter=chapter)\n",
        "    response = requests.get(url)\n",
        "    if response.status_code == 200:\n",
        "        soup = BeautifulSoup(response.content, 'html.parser')\n",
        "        # Extract text content from the div with class 'passage-text'\n",
        "        text_div = soup.find('div', class_='passage-text')\n",
        "        if text_div:\n",
        "            text = text_div.get_text(separator=' ', strip=True)\n",
        "            return text\n",
        "    return None\n",
        "\n",
        "# Example usage\n",
        "texts = []\n",
        "for chapter in range(1, 5):  # Scraping the first 4 chapters of John for this example\n",
        "    text = scrape_text(chapter)\n",
        "    texts.append(text)\n",
        "\n",
        "# Simulate audio file paths (in practice, these would be actual audio file paths)\n",
        "audio_files = [f'example_audio/chapter{chapter}.mp3' for chapter in range(1, 5)]\n",
        "\n",
        "# Store the data in a DataFrame\n",
        "data = pd.DataFrame({\n",
        "    'chapter': range(1, 5),\n",
        "    'audio_file': audio_files,\n",
        "    'text': texts\n",
        "})\n",
        "\n",
        "print(data)\n"
      ],
      "metadata": {
        "colab": {
          "base_uri": "https://localhost:8080/"
        },
        "id": "pDmZFEl7TH4G",
        "outputId": "d4991613-4b8b-4852-839b-bd1cc6336f04"
      },
      "execution_count": 6,
      "outputs": [
        {
          "output_type": "stream",
          "name": "stdout",
          "text": [
            "   chapter                  audio_file  \\\n",
            "0        1  example_audio/chapter1.mp3   \n",
            "1        2  example_audio/chapter2.mp3   \n",
            "2        3  example_audio/chapter3.mp3   \n",
            "3        4  example_audio/chapter4.mp3   \n",
            "\n",
            "                                                text  \n",
            "0  The Word Became Flesh 1 In the beginning was t...  \n",
            "1  Jesus Changes Water Into Wine 2 On the third d...  \n",
            "2  Jesus Teaches Nicodemus 3 Now there was a Phar...  \n",
            "3  Jesus Talks With a Samaritan Woman 4 Now Jesus...  \n"
          ]
        }
      ]
    },
    {
      "cell_type": "code",
      "source": [
        "# Load audio files and text into a structured format\n",
        "data = pd.DataFrame({\n",
        "    'chapter': range(1, 5),\n",
        "    'audio_file': [f'audio/chapter{chapter}.mp3' for chapter in range(1, 5)],\n",
        "    'text': [scrape_text(chapter) for chapter in range(1, 5)]\n",
        "})\n",
        "\n",
        "# Verify the data\n",
        "print(data.head())\n"
      ],
      "metadata": {
        "colab": {
          "base_uri": "https://localhost:8080/"
        },
        "id": "FUdZphjQTTV2",
        "outputId": "180ec4d6-4d98-430d-de9c-0ed59c78e6b1"
      },
      "execution_count": 8,
      "outputs": [
        {
          "output_type": "stream",
          "name": "stdout",
          "text": [
            "   chapter          audio_file  \\\n",
            "0        1  audio/chapter1.mp3   \n",
            "1        2  audio/chapter2.mp3   \n",
            "2        3  audio/chapter3.mp3   \n",
            "3        4  audio/chapter4.mp3   \n",
            "\n",
            "                                                text  \n",
            "0  The Word Became Flesh 1 In the beginning was t...  \n",
            "1  Jesus Changes Water Into Wine 2 On the third d...  \n",
            "2  Jesus Teaches Nicodemus 3 Now there was a Phar...  \n",
            "3  Jesus Talks With a Samaritan Woman 4 Now Jesus...  \n"
          ]
        }
      ]
    },
    {
      "cell_type": "code",
      "source": [
        "def simulate_audio_quality(chapter):\n",
        "    # Simulating duration (in seconds) and loudness (in dBFS)\n",
        "    duration = 600 + chapter * 10  # Example: each chapter has an increasing duration\n",
        "    loudness = 20 + chapter  # Example: increasing loudness\n",
        "    return duration, loudness\n",
        "\n",
        "# Analyze audio quality for each chapter\n",
        "audio_analysis = data['chapter'].apply(simulate_audio_quality)\n",
        "data['duration'], data['loudness'] = zip(*audio_analysis)\n",
        "\n",
        "# Display the audio analysis results\n",
        "print(data[['chapter', 'duration', 'loudness']])\n"
      ],
      "metadata": {
        "colab": {
          "base_uri": "https://localhost:8080/"
        },
        "id": "uMwwDP70TVU3",
        "outputId": "3a5343d5-750f-41b2-c761-21096a136360"
      },
      "execution_count": 14,
      "outputs": [
        {
          "output_type": "stream",
          "name": "stdout",
          "text": [
            "   chapter  duration  loudness\n",
            "0        1       610        21\n",
            "1        2       620        22\n",
            "2        3       630        23\n",
            "3        4       640        24\n"
          ]
        }
      ]
    },
    {
      "cell_type": "code",
      "source": [
        "def analyze_text_clarity(text):\n",
        "    word_count = len(text.split())\n",
        "    sentence_count = text.count('.')\n",
        "    return word_count, sentence_count\n",
        "\n",
        "# Analyze text clarity for each chapter\n",
        "text_analysis = data['text'].apply(analyze_text_clarity)\n",
        "data['word_count'], data['sentence_count'] = zip(*text_analysis)\n",
        "\n",
        "# Display the text analysis results\n",
        "print(data[['chapter', 'word_count', 'sentence_count']])\n"
      ],
      "metadata": {
        "colab": {
          "base_uri": "https://localhost:8080/"
        },
        "id": "PFAqdOeMTmCj",
        "outputId": "b14f6357-2feb-421c-87b8-53e45ffa7421"
      },
      "execution_count": 15,
      "outputs": [
        {
          "output_type": "stream",
          "name": "stdout",
          "text": [
            "   chapter  word_count  sentence_count\n",
            "0        1        1981              62\n",
            "1        2         895              27\n",
            "2        3        1445              45\n",
            "3        4        1594              59\n"
          ]
        }
      ]
    },
    {
      "cell_type": "code",
      "source": [
        "import matplotlib.pyplot as plt\n",
        "\n",
        "# Plot the duration of audio files\n",
        "plt.figure(figsize=(10, 6))\n",
        "plt.bar(data['chapter'], data['duration'])\n",
        "plt.xlabel('Chapter')\n",
        "plt.ylabel('Duration (seconds)')\n",
        "plt.title('Duration of Audio Files by Chapter')\n",
        "plt.show()\n",
        "\n",
        "# Plot the loudness of audio files\n",
        "plt.figure(figsize=(10, 6))\n",
        "plt.bar(data['chapter'], data['loudness'])\n",
        "plt.xlabel('Chapter')\n",
        "plt.ylabel('Loudness (dBFS)')\n",
        "plt.title('Loudness of Audio Files by Chapter')\n",
        "plt.show()\n",
        "\n",
        "# Plot the word count of texts\n",
        "plt.figure(figsize=(10, 6))\n",
        "plt.bar(data['chapter'], data['word_count'])\n",
        "plt.xlabel('Chapter')\n",
        "plt.ylabel('Word Count')\n",
        "plt.title('Word Count of Texts by Chapter')\n",
        "plt.show()\n",
        "\n",
        "# Plot the sentence count of texts\n",
        "plt.figure(figsize=(10, 6))\n",
        "plt.bar(data['chapter'], data['sentence_count'])\n",
        "plt.xlabel('Chapter')\n",
        "plt.ylabel('Sentence Count')\n",
        "plt.title('Sentence Count of Texts by Chapter')\n",
        "plt.show()\n"
      ],
      "metadata": {
        "colab": {
          "base_uri": "https://localhost:8080/",
          "height": 1000
        },
        "id": "SH1rhuauTohX",
        "outputId": "b52436c3-a355-403b-ee37-9a841c8ea10d"
      },
      "execution_count": 16,
      "outputs": [
        {
          "output_type": "display_data",
          "data": {
            "text/plain": [
              "<Figure size 1000x600 with 1 Axes>"
            ],
            "image/png": "[encoded data removed]"
          },
          "metadata": {}
        },
        {
          "output_type": "display_data",
          "data": {
            "text/plain": [
              "<Figure size 1000x600 with 1 Axes>"
            ],
            "image/png": "[encoded data removed]"
          },
          "metadata": {}
        },
        {
          "output_type": "display_data",
          "data": {
            "text/plain": [
              "<Figure size 1000x600 with 1 Axes>"
            ],
            "image/png": "[encoded data removed]"
          },
          "metadata": {}
        },
        {
          "output_type": "display_data",
          "data": {
            "text/plain": [
              "<Figure size 1000x600 with 1 Axes>"
            ],
            "image/png": "[encoded data removed]"
          },
          "metadata": {}
        }
      ]
    },
    {
      "cell_type": "code",
      "source": [],
      "metadata": {
        "id": "wX7N7K-14h7h"
      },
      "execution_count": null,
      "outputs": []
    }
  ]
}